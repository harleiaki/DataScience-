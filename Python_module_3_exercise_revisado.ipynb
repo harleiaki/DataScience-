{
  "cells": [
    {
      "cell_type": "markdown",
      "metadata": {
        "id": "view-in-github",
        "colab_type": "text"
      },
      "source": [
        "<a href=\"https://colab.research.google.com/github/harleiaki/DataScience-/blob/main/Python_module_3_exercise_revisado.ipynb\" target=\"_parent\"><img src=\"https://colab.research.google.com/assets/colab-badge.svg\" alt=\"Open In Colab\"/></a>"
      ]
    },
    {
      "cell_type": "markdown",
      "metadata": {
        "id": "KJqp9AANOCtf"
      },
      "source": [
        "<img src=\"https://raw.githubusercontent.com/andre-marcos-perez/ebac-course-utils/main/media/logo/newebac_logo_black_half.png\" alt=\"ebac-logo\">\n",
        "\n",
        "---\n",
        "\n",
        "# **Módulo** | Python: Fluxo Condicional & Repetição\n",
        "Caderno de **Exercícios**<br>\n",
        "Professor [André Perez](https://www.linkedin.com/in/andremarcosperez/)\n",
        "\n",
        "---"
      ]
    },
    {
      "cell_type": "markdown",
      "metadata": {
        "id": "d9jDtUbDOE1-"
      },
      "source": [
        "# **Tópicos**\n",
        "\n",
        "<ol type=\"1\">\n",
        "  <li>Estrutura condicional if / else / elif;</li>\n",
        "  <li>Estrutura condicional try / catch / finally;</li>\n",
        "  <li>Estrutura de repetição for / in.</li>\n",
        "</ol>"
      ]
    },
    {
      "cell_type": "markdown",
      "metadata": {
        "id": "SmoHgt-lwkpD"
      },
      "source": [
        "---"
      ]
    },
    {
      "cell_type": "markdown",
      "metadata": {
        "id": "GABI6OW8OfQ2"
      },
      "source": [
        "# **Exercícios**"
      ]
    },
    {
      "cell_type": "markdown",
      "metadata": {
        "id": "sM45puSj20MD"
      },
      "source": [
        "## 1\\. Estrutura condicional for / in"
      ]
    },
    {
      "cell_type": "markdown",
      "metadata": {
        "id": "imsoDr3620MD"
      },
      "source": [
        "Na lista `propaganda_online` abaixo, estão presente os dados de usuários que acessaram um determinado site e se o mesmo clicou em uma propaganda."
      ]
    },
    {
      "cell_type": "code",
      "execution_count": 1,
      "metadata": {
        "id": "Wzi5SZpS20ME"
      },
      "outputs": [],
      "source": [
        "propaganda_online = [\n",
        "  {'tempo_gasto_site': 68.95, 'idade': 35, 'renda_area': 61833.90, 'tempo_gasto_internet': 256.09, 'cidade': 'Wrightburgh', 'pais': 'Tunisia', 'clicou_no_ad': 0},\n",
        "  {'tempo_gasto_site': 80.23, 'idade': 31, 'renda_area': 68441.85, 'tempo_gasto_internet': 193.77, 'cidade': 'West Jodi', 'pais': 'Nauru', 'clicou_no_ad': 0},\n",
        "  {'tempo_gasto_site': 69.47, 'idade': 26, 'renda_area': 59785.94, 'tempo_gasto_internet': 236.50, 'cidade': 'Davidton', 'pais': 'San Marino', 'clicou_no_ad': 0},\n",
        "  {'tempo_gasto_site': 68.37, 'idade': 35, 'renda_area': 73889.99, 'tempo_gasto_internet': 225.58, 'cidade': 'South Manuel', 'pais': 'Iceland', 'clicou_no_ad': 0},\n",
        "  {'tempo_gasto_site': 88.91, 'idade': 33, 'renda_area': 53852.85, 'tempo_gasto_internet': 208.36, 'cidade': 'Brandonstad', 'pais': 'Myanmar', 'clicou_no_ad': 0},\n",
        "  {'tempo_gasto_site': None, 'idade': 48, 'renda_area': 24593.33, 'tempo_gasto_internet': 131.76, 'cidade': 'Port Jefferybury', 'pais': 'Australia', 'clicou_no_ad': 1},\n",
        "  {'tempo_gasto_site': 74.53, 'idade': 30, 'renda_area': 68862.00, 'tempo_gasto_internet': 221.51, 'cidade': 'West Colin', 'pais': 'Grenada'},\n",
        "  {'tempo_gasto_site': 69.88, 'idade': 20, 'renda_area': 55642.32, 'tempo_gasto_internet': 183.82, 'cidade': 'Ramirezton', 'pais': 'Ghana', 'clicou_no_ad': 0}\n",
        "]"
      ]
    },
    {
      "cell_type": "code",
      "execution_count": 2,
      "metadata": {
        "id": "cyMWqs_t8pWA",
        "colab": {
          "base_uri": "https://localhost:8080/"
        },
        "outputId": "cd7daba2-c956-43ad-9ce9-b5852dee7622"
      },
      "outputs": [
        {
          "output_type": "stream",
          "name": "stdout",
          "text": [
            "{'tempo_gasto_site': 68.95, 'idade': 35, 'renda_area': 61833.9, 'tempo_gasto_internet': 256.09, 'cidade': 'Wrightburgh', 'pais': 'Tunisia', 'clicou_no_ad': 0}\n",
            "{'tempo_gasto_site': 80.23, 'idade': 31, 'renda_area': 68441.85, 'tempo_gasto_internet': 193.77, 'cidade': 'West Jodi', 'pais': 'Nauru', 'clicou_no_ad': 0}\n",
            "{'tempo_gasto_site': 69.47, 'idade': 26, 'renda_area': 59785.94, 'tempo_gasto_internet': 236.5, 'cidade': 'Davidton', 'pais': 'San Marino', 'clicou_no_ad': 0}\n",
            "{'tempo_gasto_site': 68.37, 'idade': 35, 'renda_area': 73889.99, 'tempo_gasto_internet': 225.58, 'cidade': 'South Manuel', 'pais': 'Iceland', 'clicou_no_ad': 0}\n",
            "{'tempo_gasto_site': 88.91, 'idade': 33, 'renda_area': 53852.85, 'tempo_gasto_internet': 208.36, 'cidade': 'Brandonstad', 'pais': 'Myanmar', 'clicou_no_ad': 0}\n",
            "{'tempo_gasto_site': None, 'idade': 48, 'renda_area': 24593.33, 'tempo_gasto_internet': 131.76, 'cidade': 'Port Jefferybury', 'pais': 'Australia', 'clicou_no_ad': 1}\n",
            "{'tempo_gasto_site': 74.53, 'idade': 30, 'renda_area': 68862.0, 'tempo_gasto_internet': 221.51, 'cidade': 'West Colin', 'pais': 'Grenada'}\n",
            "{'tempo_gasto_site': 69.88, 'idade': 20, 'renda_area': 55642.32, 'tempo_gasto_internet': 183.82, 'cidade': 'Ramirezton', 'pais': 'Ghana', 'clicou_no_ad': 0}\n"
          ]
        }
      ],
      "source": [
        "for dado_de_usuario in propaganda_online:\n",
        "  print(dado_de_usuario)"
      ]
    },
    {
      "cell_type": "markdown",
      "metadata": {
        "id": "ApbpZq3020MG"
      },
      "source": [
        "1.1. Imprime os seguintes valores da lista:\n",
        "`tempo_gasto_site` e `idade`\n",
        "\n",
        "Dica: Utilize os conceitos de chave e valor de elementos de uma lista para selecionar os valores de uma chave (lista[chave]), conforme exemplo abaixo, na qual imprime somente os dados da chave `cidade`:"
      ]
    },
    {
      "cell_type": "code",
      "execution_count": 3,
      "metadata": {
        "colab": {
          "base_uri": "https://localhost:8080/"
        },
        "id": "eXD0UD1S20MG",
        "outputId": "6f2c6e9a-da87-4921-eeee-10ce73c409bf"
      },
      "outputs": [
        {
          "output_type": "stream",
          "name": "stdout",
          "text": [
            "Wrightburgh\n",
            "West Jodi\n",
            "Davidton\n",
            "South Manuel\n",
            "Brandonstad\n",
            "Port Jefferybury\n",
            "West Colin\n",
            "Ramirezton\n"
          ]
        }
      ],
      "source": [
        "for dado_de_usuario in propaganda_online:\n",
        "    print(dado_de_usuario['cidade'])"
      ]
    },
    {
      "cell_type": "markdown",
      "metadata": {
        "id": "bckkDE2j20MH"
      },
      "source": [
        "Extrair os valores da chave tempo_gasto_site"
      ]
    },
    {
      "cell_type": "code",
      "execution_count": 19,
      "metadata": {
        "colab": {
          "base_uri": "https://localhost:8080/"
        },
        "id": "NyWceKAU20MH",
        "outputId": "80f79270-1773-428e-a5a1-ce50e128f2a8"
      },
      "outputs": [
        {
          "output_type": "stream",
          "name": "stdout",
          "text": [
            "68.95\n",
            "80.23\n",
            "69.47\n",
            "68.37\n",
            "88.91\n",
            "None\n",
            "74.53\n",
            "69.88\n"
          ]
        }
      ],
      "source": [
        "for dado_de_usuario in propaganda_online:\n",
        "        print(dado_de_usuario['tempo_gasto_site'])"
      ]
    },
    {
      "cell_type": "markdown",
      "metadata": {
        "id": "lI4lHGDD20MH"
      },
      "source": [
        "Extrair os valores da chave idade"
      ]
    },
    {
      "cell_type": "code",
      "execution_count": 20,
      "metadata": {
        "colab": {
          "base_uri": "https://localhost:8080/"
        },
        "id": "6u6AeGYF20MH",
        "outputId": "92751bee-3c81-4869-9309-242fcf6991db"
      },
      "outputs": [
        {
          "output_type": "stream",
          "name": "stdout",
          "text": [
            "35\n",
            "31\n",
            "26\n",
            "35\n",
            "33\n",
            "48\n",
            "30\n",
            "20\n"
          ]
        }
      ],
      "source": [
        "for dado_de_usuario in propaganda_online:\n",
        "        print(dado_de_usuario['idade'])"
      ]
    },
    {
      "cell_type": "markdown",
      "metadata": {
        "id": "w8eVhHjv20MI"
      },
      "source": [
        "## 2\\. Estrutura condicional if / else"
      ]
    },
    {
      "cell_type": "markdown",
      "metadata": {
        "id": "2dRG1mqX20MI"
      },
      "source": [
        "2.1. Utilize a estrutura if/else para imprimir a cidade dos usuários que gastaram mais de 100 horas de tempo na internet\n",
        "\n",
        "Dica: Após a iteração dos elementos da lista (Através da estrutura condicional FOR),  utilize a estrutura if/else para criar a condição dos valores da chave `tempo_gasto_internet`"
      ]
    },
    {
      "cell_type": "code",
      "execution_count": 35,
      "metadata": {
        "colab": {
          "base_uri": "https://localhost:8080/"
        },
        "id": "f5cslESR20MI",
        "outputId": "1e92a56d-be1b-45f4-99eb-21177e9f386f"
      },
      "outputs": [
        {
          "output_type": "stream",
          "name": "stdout",
          "text": [
            "O usuário da cidade Wrightburgh gastou mais de 100 horas na internet.\n",
            "O usuário da cidade West Jodi gastou mais de 100 horas na internet.\n",
            "O usuário da cidade Davidton gastou mais de 100 horas na internet.\n",
            "O usuário da cidade South Manuel gastou mais de 100 horas na internet.\n",
            "O usuário da cidade Brandonstad gastou mais de 100 horas na internet.\n",
            "O usuário da cidade Port Jefferybury gastou mais de 100 horas na internet.\n",
            "O usuário da cidade West Colin gastou mais de 100 horas na internet.\n",
            "O usuário da cidade Ramirezton gastou mais de 100 horas na internet.\n"
          ]
        }
      ],
      "source": [
        "for dado_de_usuario in propaganda_online:\n",
        "    tempo_gasto_internet = dado_de_usuario[\"tempo_gasto_internet\"]\n",
        "    cidade = dado_de_usuario[\"cidade\"]\n",
        "    if tempo_gasto_internet > 100:\n",
        "        print(f\"O usuário da cidade {cidade} gastou mais de 100 horas na internet.\")\n",
        "    else:\n",
        "        print(f\"O usuário da cidade {cidade} gastou até 100 horas na internet.\")"
      ]
    },
    {
      "cell_type": "markdown",
      "metadata": {
        "id": "goVc0AFz20MI"
      },
      "source": [
        "## 3\\. Estrutura condicional try / except"
      ]
    },
    {
      "cell_type": "markdown",
      "metadata": {
        "id": "_090H5ML20MI"
      },
      "source": [
        "3.1. Utilize a estrutura try/except para imprimir as cidades dos usuários que passaram mais de 70 segundos no site.\n",
        "\n",
        "Dica: Realize o tratamento de exceções dentro da execução da iteração dos elementos da lista"
      ]
    },
    {
      "cell_type": "code",
      "execution_count": 163,
      "metadata": {
        "colab": {
          "base_uri": "https://localhost:8080/"
        },
        "id": "_gI16a6N20MJ",
        "outputId": "54bc55c4-4a27-49e8-9930-e726914102ce"
      },
      "outputs": [
        {
          "output_type": "stream",
          "name": "stdout",
          "text": [
            "{'tempo_gasto_site': 68.95, 'idade': 35, 'renda_area': 61833.9, 'tempo_gasto_internet': 256.09, 'cidade': 'Wrightburgh', 'pais': 'Tunisia', 'clicou_no_ad': 0}\n",
            "{'tempo_gasto_site': 80.23, 'idade': 31, 'renda_area': 68441.85, 'tempo_gasto_internet': 193.77, 'cidade': 'West Jodi', 'pais': 'Nauru', 'clicou_no_ad': 0}\n",
            "{'tempo_gasto_site': 69.47, 'idade': 26, 'renda_area': 59785.94, 'tempo_gasto_internet': 236.5, 'cidade': 'Davidton', 'pais': 'San Marino', 'clicou_no_ad': 0}\n",
            "{'tempo_gasto_site': 68.37, 'idade': 35, 'renda_area': 73889.99, 'tempo_gasto_internet': 225.58, 'cidade': 'South Manuel', 'pais': 'Iceland', 'clicou_no_ad': 0}\n",
            "{'tempo_gasto_site': 88.91, 'idade': 33, 'renda_area': 53852.85, 'tempo_gasto_internet': 208.36, 'cidade': 'Brandonstad', 'pais': 'Myanmar', 'clicou_no_ad': 0}\n",
            "{'tempo_gasto_site': None, 'idade': 48, 'renda_area': 24593.33, 'tempo_gasto_internet': 131.76, 'cidade': 'Port Jefferybury', 'pais': 'Australia', 'clicou_no_ad': 1}\n",
            "{'tempo_gasto_site': 74.53, 'idade': 30, 'renda_area': 68862.0, 'tempo_gasto_internet': 221.51, 'cidade': 'West Colin', 'pais': 'Grenada'}\n",
            "{'tempo_gasto_site': 69.88, 'idade': 20, 'renda_area': 55642.32, 'tempo_gasto_internet': 183.82, 'cidade': 'Ramirezton', 'pais': 'Ghana', 'clicou_no_ad': 0}\n",
            "O usuário da cidade Port Jefferybury passou mais de 70 segundos no site.\n",
            "Usuários das cidades que passaram mais de 70 segundos no site: ['West Jodi', 'Brandonstad', 'West Colin']\n"
          ]
        }
      ],
      "source": [
        "for dado_de_usuario in propaganda_online:\n",
        "    print(dado_de_usuario)\n",
        "\n",
        "cidade = []\n",
        "\n",
        "for dado_de_usuario in propaganda_online:\n",
        "    try:\n",
        "        if dado_de_usuario['tempo_gasto_site'] > 70:\n",
        "            cidade.append(dado_de_usuario['cidade'])\n",
        "    except (KeyError, TypeError):\n",
        "        print(f\"O usuário da cidade {dado_de_usuario['cidade']} passou mais de 70 segundos no site.\")\n",
        "\n",
        "print(f\"Usuários das cidades que passaram mais de 70 segundos no site: {cidade}\")"
      ]
    },
    {
      "cell_type": "markdown",
      "metadata": {
        "id": "9LuO6pV420MJ"
      },
      "source": [
        "# Exercício bônus"
      ]
    },
    {
      "cell_type": "markdown",
      "metadata": {
        "id": "muD1vxozykSC"
      },
      "source": [
        "## 1\\. Dados de interação de usuários com propagandas online"
      ]
    },
    {
      "cell_type": "markdown",
      "metadata": {
        "id": "KI9zQRT2xa7m"
      },
      "source": [
        "1.1. Crie uma lista chamada `paises` com o pais dos usuários com mais de 30 anos.\n",
        "\n",
        "Dica: Para armazenar os países dos usuários na lista `paises` utilize o método append()."
      ]
    },
    {
      "cell_type": "code",
      "execution_count": 149,
      "metadata": {
        "id": "fvYOUhoN-dxd",
        "colab": {
          "base_uri": "https://localhost:8080/"
        },
        "outputId": "3bf29822-6332-4b7e-d3cb-7723cf2062b4"
      },
      "outputs": [
        {
          "output_type": "stream",
          "name": "stdout",
          "text": [
            "Os usuários dos países ['Tunisia', 'Nauru', 'Iceland', 'Myanmar', 'Australia'] com o pais dos usuários com mais de 30 anos.\n"
          ]
        }
      ],
      "source": [
        "paises = []\n",
        "for dado_de_usuario in propaganda_online:\n",
        "  if dado_de_usuario['idade']>30:\n",
        "    paises.append(dado_de_usuario['pais'])\n",
        "\n",
        "print(f\"Os usuários dos países {paises} com o pais dos usuários com mais de 30 anos.\")"
      ]
    },
    {
      "cell_type": "markdown",
      "metadata": {
        "id": "zMN1Q3jdwoJm"
      },
      "source": [
        "---"
      ]
    },
    {
      "cell_type": "markdown",
      "metadata": {
        "id": "LU_VIEdD_PrZ"
      },
      "source": [
        "1.2. Crie uma lista chamada `leads` com a renda dos usuários que clicaram na propaganda.\n",
        "\n",
        "Dica: Para armazenar a renda dos usuários na lista `leads` utilize o método append()."
      ]
    },
    {
      "cell_type": "code",
      "execution_count": 165,
      "metadata": {
        "id": "3mTbsme4_Pr0",
        "colab": {
          "base_uri": "https://localhost:8080/"
        },
        "outputId": "21efacde-99f3-402b-f9fc-8a1d1966794c"
      },
      "outputs": [
        {
          "output_type": "stream",
          "name": "stdout",
          "text": [
            "Lista de renda dos usuários que clicaram na propaganda: [24593.33]\n"
          ]
        }
      ],
      "source": [
        "leads = []\n",
        "\n",
        "for dado_de_usuario in propaganda_online:\n",
        "    if dado_de_usuario.get('clicou_no_ad') == 1:\n",
        "        renda = dado_de_usuario.get('renda_area')\n",
        "        if renda is not None:\n",
        "            leads.append(renda)\n",
        "\n",
        "print(\"Lista de renda dos usuários que clicaram na propaganda:\", leads)"
      ]
    },
    {
      "cell_type": "markdown",
      "metadata": {
        "id": "4_L-WULHAesN"
      },
      "source": [
        "---"
      ]
    }
  ],
  "metadata": {
    "colab": {
      "provenance": [],
      "toc_visible": true,
      "include_colab_link": true
    },
    "kernelspec": {
      "display_name": "Python 3 (ipykernel)",
      "language": "python",
      "name": "python3"
    },
    "language_info": {
      "codemirror_mode": {
        "name": "ipython",
        "version": 3
      },
      "file_extension": ".py",
      "mimetype": "text/x-python",
      "name": "python",
      "nbconvert_exporter": "python",
      "pygments_lexer": "ipython3",
      "version": "3.9.7"
    }
  },
  "nbformat": 4,
  "nbformat_minor": 0
}