{
  "nbformat": 4,
  "nbformat_minor": 0,
  "metadata": {
    "colab": {
      "provenance": [],
      "toc_visible": true,
      "include_colab_link": true
    },
    "kernelspec": {
      "name": "python3",
      "display_name": "Python 3"
    }
  },
  "cells": [
    {
      "cell_type": "markdown",
      "metadata": {
        "id": "view-in-github",
        "colab_type": "text"
      },
      "source": [
        "<a href=\"https://colab.research.google.com/github/harleiaki/DataScience-/blob/main/Python_modulo_2_exercicios.ipynb\" target=\"_parent\"><img src=\"https://colab.research.google.com/assets/colab-badge.svg\" alt=\"Open In Colab\"/></a>"
      ]
    },
    {
      "cell_type": "markdown",
      "metadata": {
        "id": "KJqp9AANOCtf"
      },
      "source": [
        "<img src=\"https://raw.githubusercontent.com/andre-marcos-perez/ebac-course-utils/main/media/logo/newebac_logo_black_half.png\" alt=\"ebac-logo\">\n",
        "\n",
        "---\n",
        "\n",
        "# **Módulo 02** | Python: Estruturas de Dados\n",
        "Caderno de **Exercícios**<br>\n",
        "Professor [André Perez](https://www.linkedin.com/in/andremarcosperez/)\n",
        "\n",
        "---"
      ]
    },
    {
      "cell_type": "markdown",
      "metadata": {
        "id": "d9jDtUbDOE1-"
      },
      "source": [
        "# **Tópicos**\n",
        "\n",
        "<ol type=\"1\">\n",
        "  <li>Listas;</li>\n",
        "  <li>Conjuntos;</li>\n",
        "  <li>Dicionários.</li>\n",
        "</ol>"
      ]
    },
    {
      "cell_type": "markdown",
      "metadata": {
        "id": "SmoHgt-lwkpD"
      },
      "source": [
        "---"
      ]
    },
    {
      "cell_type": "markdown",
      "metadata": {
        "id": "GABI6OW8OfQ2"
      },
      "source": [
        "# **Exercícios**"
      ]
    },
    {
      "cell_type": "markdown",
      "metadata": {
        "id": "muD1vxozykSC"
      },
      "source": [
        "## 1\\. Listas"
      ]
    },
    {
      "cell_type": "markdown",
      "metadata": {
        "id": "ahrFfCuBxJKs"
      },
      "source": [
        "Criei uma lista chamada `filmes` com o nome dos 10 primeiros filmes mais bem avaliados no site no [IMDB](https://www.imdb.com/chart/top/). Imprima o resultado."
      ]
    },
    {
      "cell_type": "code",
      "metadata": {
        "id": "OgL6Hv3bzOHI",
        "colab": {
          "base_uri": "https://localhost:8080/"
        },
        "outputId": "9095d21d-254c-4aa1-c4a0-8d6a4ba9b3c6"
      },
      "source": [
        "filmes = ['1- Um Sonho de Liberdade', '2- O Poderoso Chefão', '3- Batman: O Cavaleiro das Trevas',\n",
        "          '4- O Poderoso Chefão II','5- 12 Homens e uma Sentença', '6- A Lista de Schindler',\n",
        "          '7- O Senhor dos Anéis: O Retorno do Rei', '8- Pulp Fiction - Tempo de Violência',\n",
        "          '9- O Senhor dos Anéis: A Sociedade do Anel', '10- Três Homens em Conflito']\n",
        "\n",
        "print(filmes)\n",
        "print(type(filmes))"
      ],
      "execution_count": 3,
      "outputs": [
        {
          "output_type": "stream",
          "name": "stdout",
          "text": [
            "['1- Um Sonho de Liberdade', '2- O Poderoso Chefão', '3- Batman: O Cavaleiro das Trevas', '4- O Poderoso Chefão II', '5- 12 Homens e uma Sentença', '6- A Lista de Schindler', '7- O Senhor dos Anéis: O Retorno do Rei', '8- Pulp Fiction - Tempo de Violência', '9- O Senhor dos Anéis: A Sociedade do Anel', '10- Três Homens em Conflito']\n",
            "<class 'list'>\n"
          ]
        }
      ]
    },
    {
      "cell_type": "markdown",
      "metadata": {
        "id": "KI9zQRT2xa7m"
      },
      "source": [
        "Simule a movimentação do *ranking*. Utilize os métodos `insert` e `pop` para trocar a posição do primeiro e do segundo filme da lista. Imprima o resultado.\n",
        "\n"
      ]
    },
    {
      "cell_type": "code",
      "metadata": {
        "id": "zX3mA3_GzrXH",
        "colab": {
          "base_uri": "https://localhost:8080/"
        },
        "outputId": "3c2e619a-f9db-4ed5-ee91-4775a1dafa1a"
      },
      "source": [
        "# remover um elemento pelo índice: list.pop(val)\n",
        "removendo1 = filmes.pop(0)\n",
        "print(removendo1)"
      ],
      "execution_count": 4,
      "outputs": [
        {
          "output_type": "stream",
          "name": "stdout",
          "text": [
            "1- Um Sonho de Liberdade\n"
          ]
        }
      ]
    },
    {
      "cell_type": "code",
      "source": [
        "print(filmes)"
      ],
      "metadata": {
        "colab": {
          "base_uri": "https://localhost:8080/"
        },
        "id": "4EcZWAAJd4_Y",
        "outputId": "97b85ee0-bca2-472b-ba5c-5423475aeb5d"
      },
      "execution_count": 5,
      "outputs": [
        {
          "output_type": "stream",
          "name": "stdout",
          "text": [
            "['2- O Poderoso Chefão', '3- Batman: O Cavaleiro das Trevas', '4- O Poderoso Chefão II', '5- 12 Homens e uma Sentença', '6- A Lista de Schindler', '7- O Senhor dos Anéis: O Retorno do Rei', '8- Pulp Fiction - Tempo de Violência', '9- O Senhor dos Anéis: A Sociedade do Anel', '10- Três Homens em Conflito']\n"
          ]
        }
      ]
    },
    {
      "cell_type": "code",
      "source": [
        "# inserir um elemento sem substituir: list.insert(index, val)\n",
        "filmes.insert(1, '1- Um Sonho de Liberdade')\n",
        "print(filmes)"
      ],
      "metadata": {
        "colab": {
          "base_uri": "https://localhost:8080/"
        },
        "id": "dIzcuhageOTw",
        "outputId": "2c237724-f6f8-4976-db01-77f2ce9107f8"
      },
      "execution_count": 8,
      "outputs": [
        {
          "output_type": "stream",
          "name": "stdout",
          "text": [
            "['2- O Poderoso Chefão', '1- Um Sonho de Liberdade', '3- Batman: O Cavaleiro das Trevas', '4- O Poderoso Chefão II', '5- 12 Homens e uma Sentença', '6- A Lista de Schindler', '7- O Senhor dos Anéis: O Retorno do Rei', '8- Pulp Fiction - Tempo de Violência', '9- O Senhor dos Anéis: A Sociedade do Anel', '10- Três Homens em Conflito']\n"
          ]
        }
      ]
    },
    {
      "cell_type": "code",
      "source": [],
      "metadata": {
        "id": "LnL_1GjxeOMI"
      },
      "execution_count": null,
      "outputs": []
    },
    {
      "cell_type": "markdown",
      "metadata": {
        "id": "zMN1Q3jdwoJm"
      },
      "source": [
        "---"
      ]
    },
    {
      "cell_type": "markdown",
      "metadata": {
        "id": "lxa5L6uF0ZJE"
      },
      "source": [
        "## 2\\. Conjuntos"
      ]
    },
    {
      "cell_type": "markdown",
      "metadata": {
        "id": "9JahS2Kj0d5u"
      },
      "source": [
        "Aconteceu um erro no seu *ranking*. Simule a duplicação dos três últimos filmes da lista. Imprima o resultado."
      ]
    },
    {
      "cell_type": "code",
      "metadata": {
        "id": "BnjnLBNC6PGe"
      },
      "source": [
        "filmes = ['1- Um Sonho de Liberdade', '2- O Poderoso Chefão', '3- Batman: O Cavaleiro das Trevas',\n",
        "          '4- O Poderoso Chefão II','5- 12 Homens e uma Sentença', '6- A Lista de Schindler',\n",
        "          '7- O Senhor dos Anéis: O Retorno do Rei', '8- Pulp Fiction - Tempo de Violência',\n",
        "          '9- O Senhor dos Anéis: A Sociedade do Anel', '10- Três Homens em Conflito']\n",
        "\n",
        "filmes2 = ['8- Pulp Fiction - Tempo de Violência',\n",
        "          '9- O Senhor dos Anéis: A Sociedade do Anel', '10- Três Homens em Conflito']"
      ],
      "execution_count": 10,
      "outputs": []
    },
    {
      "cell_type": "code",
      "source": [
        "resultado = filmes + filmes2\n",
        "print(resultado)"
      ],
      "metadata": {
        "colab": {
          "base_uri": "https://localhost:8080/"
        },
        "id": "6lUrux7OfquI",
        "outputId": "e30b681b-30fa-4426-f063-49378910220f"
      },
      "execution_count": 19,
      "outputs": [
        {
          "output_type": "stream",
          "name": "stdout",
          "text": [
            "['1- Um Sonho de Liberdade', '2- O Poderoso Chefão', '3- Batman: O Cavaleiro das Trevas', '4- O Poderoso Chefão II', '5- 12 Homens e uma Sentença', '6- A Lista de Schindler', '7- O Senhor dos Anéis: O Retorno do Rei', '8- Pulp Fiction - Tempo de Violência', '9- O Senhor dos Anéis: A Sociedade do Anel', '10- Três Homens em Conflito', '8- Pulp Fiction - Tempo de Violência', '9- O Senhor dos Anéis: A Sociedade do Anel', '10- Três Homens em Conflito']\n"
          ]
        }
      ]
    },
    {
      "cell_type": "markdown",
      "metadata": {
        "id": "suxTfCJB6ZiX"
      },
      "source": [
        "Utiliza a conversão `set` e `list` para remover os valores duplicados. Imprima o resultado."
      ]
    },
    {
      "cell_type": "code",
      "metadata": {
        "id": "ZvUGN-0n6joM",
        "colab": {
          "base_uri": "https://localhost:8080/"
        },
        "outputId": "1e48d15d-163c-4462-999d-c8ef099964a0"
      },
      "source": [
        "filmesset = {'1- Um Sonho de Liberdade', '2- O Poderoso Chefão', '3- Batman: O Cavaleiro das Trevas',\n",
        "          '4- O Poderoso Chefão II','5- 12 Homens e uma Sentença', '6- A Lista de Schindler',\n",
        "          '7- O Senhor dos Anéis: O Retorno do Rei', '8- Pulp Fiction - Tempo de Violência',\n",
        "          '9- O Senhor dos Anéis: A Sociedade do Anel', '10- Três Homens em Conflito', '8- Pulp Fiction - Tempo de Violência',\n",
        "          '9- O Senhor dos Anéis: A Sociedade do Anel', '10- Três Homens em Conflito'}\n",
        "\n",
        "print(filmesset)\n",
        "print(type(filmesset))"
      ],
      "execution_count": 20,
      "outputs": [
        {
          "output_type": "stream",
          "name": "stdout",
          "text": [
            "{'8- Pulp Fiction - Tempo de Violência', '4- O Poderoso Chefão II', '5- 12 Homens e uma Sentença', '9- O Senhor dos Anéis: A Sociedade do Anel', '2- O Poderoso Chefão', '7- O Senhor dos Anéis: O Retorno do Rei', '1- Um Sonho de Liberdade', '3- Batman: O Cavaleiro das Trevas', '6- A Lista de Schindler', '10- Três Homens em Conflito'}\n",
            "<class 'set'>\n"
          ]
        }
      ]
    },
    {
      "cell_type": "markdown",
      "metadata": {
        "id": "ShkK35eQ6pAM"
      },
      "source": [
        "---"
      ]
    },
    {
      "cell_type": "code",
      "source": [
        "print(resultado)\n",
        "print(len(resultado))"
      ],
      "metadata": {
        "colab": {
          "base_uri": "https://localhost:8080/"
        },
        "id": "2jftvSqIiNoQ",
        "outputId": "16d49a22-c511-4edd-ed31-cd7791d3f128"
      },
      "execution_count": 21,
      "outputs": [
        {
          "output_type": "stream",
          "name": "stdout",
          "text": [
            "['1- Um Sonho de Liberdade', '2- O Poderoso Chefão', '3- Batman: O Cavaleiro das Trevas', '4- O Poderoso Chefão II', '5- 12 Homens e uma Sentença', '6- A Lista de Schindler', '7- O Senhor dos Anéis: O Retorno do Rei', '8- Pulp Fiction - Tempo de Violência', '9- O Senhor dos Anéis: A Sociedade do Anel', '10- Três Homens em Conflito', '8- Pulp Fiction - Tempo de Violência', '9- O Senhor dos Anéis: A Sociedade do Anel', '10- Três Homens em Conflito']\n",
            "13\n"
          ]
        }
      ]
    },
    {
      "cell_type": "code",
      "source": [
        "resultado = list(set(filmes + filmes2))\n",
        "\n",
        "print(resultado)\n",
        "print(len(resultado))"
      ],
      "metadata": {
        "colab": {
          "base_uri": "https://localhost:8080/"
        },
        "id": "VxlVLqzPheiR",
        "outputId": "e29d34d6-c420-4d70-a8ea-0784d1165d51"
      },
      "execution_count": 22,
      "outputs": [
        {
          "output_type": "stream",
          "name": "stdout",
          "text": [
            "['8- Pulp Fiction - Tempo de Violência', '4- O Poderoso Chefão II', '5- 12 Homens e uma Sentença', '2- O Poderoso Chefão', '9- O Senhor dos Anéis: A Sociedade do Anel', '7- O Senhor dos Anéis: O Retorno do Rei', '1- Um Sonho de Liberdade', '3- Batman: O Cavaleiro das Trevas', '6- A Lista de Schindler', '10- Três Homens em Conflito']\n",
            "10\n"
          ]
        }
      ]
    },
    {
      "cell_type": "markdown",
      "metadata": {
        "id": "EL_FzmxL6rTv"
      },
      "source": [
        "## 3\\. Dicionários"
      ]
    },
    {
      "cell_type": "markdown",
      "metadata": {
        "id": "i8l0gFqRCpfT"
      },
      "source": [
        "Repita os exercícios da parte 1 (listas). Os elementos da lista `filmes` devem ser dicionários no seguinte formato: `{'nome': <nome-do-filme>, 'ano': <ano do filme>}, 'sinopse': <sinopse do filme>}`."
      ]
    },
    {
      "cell_type": "code",
      "source": [
        "filme1 = {'nome': '1- Um Sonho de Liberdade', 'ano': 1994, 'sinopse': 'Dois homens presos se reúnem ao longo de vários anos, encontrando consolo e eventual redenção através de atos de decência comum.'}\n",
        "\n",
        "print(filme1)\n",
        "print(type(filme1))"
      ],
      "metadata": {
        "colab": {
          "base_uri": "https://localhost:8080/"
        },
        "id": "3PueR0xFiyhJ",
        "outputId": "b22a0169-e5ac-4ce5-968f-39e2c8359be2"
      },
      "execution_count": 23,
      "outputs": [
        {
          "output_type": "stream",
          "name": "stdout",
          "text": [
            "{'nome': '1- Um Sonho de Liberdade', 'ano': 1994, 'sinopse': 'Dois homens presos se reúnem ao longo de vários anos, encontrando consolo e eventual redenção através de atos de decência comum.'}\n",
            "<class 'dict'>\n"
          ]
        }
      ]
    },
    {
      "cell_type": "code",
      "source": [
        "filme2 = {'nome': '2- O Poderoso Chefão', 'ano': 1972, 'sinopse': 'O patriarca idoso de uma dinastia do crime organizado transfere o controle de seu império clandestino para seu filho relutante.'}\n",
        "\n",
        "print(filme2)\n",
        "print(type(filme2))"
      ],
      "metadata": {
        "colab": {
          "base_uri": "https://localhost:8080/"
        },
        "id": "Ut1UFyofiyex",
        "outputId": "99c85fef-ba36-4349-b75e-2559f0119c62"
      },
      "execution_count": 25,
      "outputs": [
        {
          "output_type": "stream",
          "name": "stdout",
          "text": [
            "{'nome': '2- O Poderoso Chefão', 'ano': 1972, 'sinopse': 'O patriarca idoso de uma dinastia do crime organizado transfere o controle de seu império clandestino para seu filho relutante.'}\n",
            "<class 'dict'>\n"
          ]
        }
      ]
    },
    {
      "cell_type": "code",
      "source": [
        "filme3 = {'nome': '3- Batman: O Cavaleiro das Trevas', 'ano': 2008, 'sinopse': 'Quando a ameaça conhecida como O Coringa surge de seu passado, causa estragos e caos nas pessoas de Gotham. O Cavaleiro das Trevas deve aceitar um dos maiores testes para combater a injustiça.'}\n",
        "\n",
        "print(filme3)\n",
        "print(type(filme3))"
      ],
      "metadata": {
        "colab": {
          "base_uri": "https://localhost:8080/"
        },
        "id": "oUNZMQ8Wiybo",
        "outputId": "cb508ae1-c6e3-4c8c-fdfd-4881d757d2e2"
      },
      "execution_count": 27,
      "outputs": [
        {
          "output_type": "stream",
          "name": "stdout",
          "text": [
            "{'nome': '3- Batman: O Cavaleiro das Trevas', 'ano': 2008, 'sinopse': 'Quando a ameaça conhecida como O Coringa surge de seu passado, causa estragos e caos nas pessoas de Gotham. O Cavaleiro das Trevas deve aceitar um dos maiores testes para combater a injustiça.'}\n",
            "<class 'dict'>\n"
          ]
        }
      ]
    },
    {
      "cell_type": "code",
      "source": [
        "filme4 = {'nome': '4- O Poderoso Chefão II', 'ano': 1974, 'sinopse': 'Em 1950, Michael Corleone, agora à frente da família, tenta expandir o negócio do crime a Las Vegas, Los Angeles e Cuba. Paralelamente, é revelada a história de Vito Corleone, e de como saiu da Sicília e chegou a Nova Iorque.'}\n",
        "\n",
        "print(filme4)\n",
        "print(type(filme4))"
      ],
      "metadata": {
        "colab": {
          "base_uri": "https://localhost:8080/"
        },
        "id": "V5m_N_cViyTQ",
        "outputId": "5a304b3d-7583-4d02-c21f-517260ace374"
      },
      "execution_count": 28,
      "outputs": [
        {
          "output_type": "stream",
          "name": "stdout",
          "text": [
            "{'nome': '4- O Poderoso Chefão II', 'ano': 1974, 'sinopse': 'Em 1950, Michael Corleone, agora à frente da família, tenta expandir o negócio do crime a Las Vegas, Los Angeles e Cuba. Paralelamente, é revelada a história de Vito Corleone, e de como saiu da Sicília e chegou a Nova Iorque.'}\n",
            "<class 'dict'>\n"
          ]
        }
      ]
    },
    {
      "cell_type": "code",
      "source": [
        "filme5 = {'nome': '5- 12 Homens e uma Sentença', 'ano': 1957, 'sinopse': 'O julgamento de um assassinato em Nova Iorque é frustrado por um único membro, cujo ceticismo força o júri a considerar cuidadosamente as evidências antes de dar o veredito.'}\n",
        "\n",
        "print(filme5)\n",
        "print(type(filme5))"
      ],
      "metadata": {
        "colab": {
          "base_uri": "https://localhost:8080/"
        },
        "id": "3ivX7zW1iyLy",
        "outputId": "c64d7ac4-7e05-42a4-e3c1-1f5d58ea3643"
      },
      "execution_count": 29,
      "outputs": [
        {
          "output_type": "stream",
          "name": "stdout",
          "text": [
            "{'nome': '5- 12 Homens e uma Sentença', 'ano': 1957, 'sinopse': 'O julgamento de um assassinato em Nova Iorque é frustrado por um único membro, cujo ceticismo força o júri a considerar cuidadosamente as evidências antes de dar o veredito.'}\n",
            "<class 'dict'>\n"
          ]
        }
      ]
    },
    {
      "cell_type": "code",
      "source": [
        "filme6 = {'nome': '6- A Lista de Schindler', 'ano': 1993, 'sinopse': 'Na Polônia ocupada pelos alemães durante a Segunda Guerra Mundial, o industrial Oskar Schindler começa a ser preocupar com seus trabalhadores judeus depois de testemunhar sua perseguição pelos nazistas.'}\n",
        "\n",
        "print(filme6)\n",
        "print(type(filme6))"
      ],
      "metadata": {
        "colab": {
          "base_uri": "https://localhost:8080/"
        },
        "id": "MKDast4KiyJZ",
        "outputId": "192813a7-7869-45c3-afcc-8e945f96eed2"
      },
      "execution_count": 30,
      "outputs": [
        {
          "output_type": "stream",
          "name": "stdout",
          "text": [
            "{'nome': '6- A Lista de Schindler', 'ano': 1993, 'sinopse': 'Na Polônia ocupada pelos alemães durante a Segunda Guerra Mundial, o industrial Oskar Schindler começa a ser preocupar com seus trabalhadores judeus depois de testemunhar sua perseguição pelos nazistas.'}\n",
            "<class 'dict'>\n"
          ]
        }
      ]
    },
    {
      "cell_type": "code",
      "source": [
        "filme7 = {'nome': '7- O Senhor dos Anéis: O Retorno do Rei', 'ano': 2003, 'sinopse': 'Gandalf e Aragorn lideram o Mundo dos Homens contra o exército de Sauron para desviar o olhar de Frodo e Sam quando eles se aproximam á Montanha da Perdição com o Um Anel.'}\n",
        "\n",
        "print(filme7)\n",
        "print(type(filme7))"
      ],
      "metadata": {
        "colab": {
          "base_uri": "https://localhost:8080/"
        },
        "id": "pANj7KF_iyG6",
        "outputId": "1433fa28-1c24-44ff-ab21-f8679a791ab9"
      },
      "execution_count": 32,
      "outputs": [
        {
          "output_type": "stream",
          "name": "stdout",
          "text": [
            "{'nome': '7- O Senhor dos Anéis: O Retorno do Rei', 'ano': 2003, 'sinopse': 'Gandalf e Aragorn lideram o Mundo dos Homens contra o exército de Sauron para desviar o olhar de Frodo e Sam quando eles se aproximam á Montanha da Perdição com o Um Anel.'}\n",
            "<class 'dict'>\n"
          ]
        }
      ]
    },
    {
      "cell_type": "code",
      "source": [
        "filme8 = {'nome': '8- Pulp Fiction - Tempo de Violência', 'ano': 1994, 'sinopse': 'As vidas de dois assassinos da máfia, um boxeador, um gângster e sua esposa, e um par de bandidos se entrelaçam em quatro histórias de violência e redenção.'}\n",
        "\n",
        "print(filme8)\n",
        "print(type(filme8))"
      ],
      "metadata": {
        "colab": {
          "base_uri": "https://localhost:8080/"
        },
        "id": "36y4n9WHiyEh",
        "outputId": "a41da1fd-c055-41c4-8afe-828ba36c319f"
      },
      "execution_count": 34,
      "outputs": [
        {
          "output_type": "stream",
          "name": "stdout",
          "text": [
            "{'nome': '8- Pulp Fiction - Tempo de Violência', 'ano': 1994, 'sinopse': 'As vidas de dois assassinos da máfia, um boxeador, um gângster e sua esposa, e um par de bandidos se entrelaçam em quatro histórias de violência e redenção.'}\n",
            "<class 'dict'>\n"
          ]
        }
      ]
    },
    {
      "cell_type": "code",
      "source": [
        "filme9 = {'nome': '9- O Senhor dos Anéis: A Sociedade do Anel', 'ano': 2001, 'sinopse': 'Um manso hobbit do Condado e oito companheiros partem em uma jornada para destruir o poderoso Um Anel e salvar a Terra-média das Trevas.'}\n",
        "\n",
        "print(filme9)\n",
        "print(type(filme9))"
      ],
      "metadata": {
        "colab": {
          "base_uri": "https://localhost:8080/"
        },
        "id": "WGaab3GXiyCC",
        "outputId": "20d19712-3e34-48df-abd7-b3f383505ba9"
      },
      "execution_count": 35,
      "outputs": [
        {
          "output_type": "stream",
          "name": "stdout",
          "text": [
            "{'nome': '9- O Senhor dos Anéis: A Sociedade do Anel', 'ano': 2001, 'sinopse': 'Um manso hobbit do Condado e oito companheiros partem em uma jornada para destruir o poderoso Um Anel e salvar a Terra-média das Trevas.'}\n",
            "<class 'dict'>\n"
          ]
        }
      ]
    },
    {
      "cell_type": "code",
      "source": [
        "filme10 = {'nome': '10- Três Homens em Conflito', 'ano': 1966, 'sinopse': 'Um impostor se junta com dois homens para encontrar fortuna num remoto cemitério.'}\n",
        "\n",
        "print(filme10)\n",
        "print(type(filme10))"
      ],
      "metadata": {
        "colab": {
          "base_uri": "https://localhost:8080/"
        },
        "id": "Ag_EmF_eix6b",
        "outputId": "df186cc9-4dbc-47cb-f237-ad6022cdd909"
      },
      "execution_count": 36,
      "outputs": [
        {
          "output_type": "stream",
          "name": "stdout",
          "text": [
            "{'nome': '10- Três Homens em Conflito', 'ano': 1966, 'sinopse': 'Um impostor se junta com dois homens para encontrar fortuna num remoto cemitério.'}\n",
            "<class 'dict'>\n"
          ]
        }
      ]
    },
    {
      "cell_type": "code",
      "source": [],
      "metadata": {
        "id": "AcQkk2SKiVb6"
      },
      "execution_count": 22,
      "outputs": []
    }
  ]
}