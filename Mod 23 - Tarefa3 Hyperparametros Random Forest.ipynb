{
 "cells": [
  {
   "cell_type": "markdown",
   "id": "5e3e744e",
   "metadata": {},
   "source": [
    "# Hyperparâmetros do Random Forest"
   ]
  },
  {
   "cell_type": "markdown",
   "id": "4058cf30",
   "metadata": {},
   "source": [
    "Random Forest possui vários hiperparâmetros que podem ser ajustados para melhorar o desempenho do modelo. Aqui estão alguns dos hiperparâmetros mais importantes do Random Forest:\n",
    "\n",
    "- n_estimators: número de árvores na floresta.\n",
    "- criterion: medida de qualidade da divisão. Os valores possíveis são \"gini\" para o índice Gini e \"entropy\" para o ganho de informação.\n",
    "- max_depth: profundidade máxima da árvore.\n",
    "- min_samples_split: número mínimo de amostras necessárias para dividir um nó interno.\n",
    "- min_samples_leaf: número mínimo de amostras necessárias em uma folha.\n",
    "- max_features: número máximo de recursos considerados ao procurar a melhor divisão. Os valores possíveis são \"sqrt\", \"log2\" e None.\n",
    "- bootstrap: indica se a amostra deve ser criada com substituição (True) ou sem substituição (False).\n",
    "- oob_score: indica se devemos calcular o score out-of-bag (True) ou não (False).\n",
    "- n_jobs: número de trabalhos paralelos para executar durante o ajuste. O valor -1 significa usar todos os processadores disponíveis.\n",
    "- random_state: estado aleatório usado para inicialização do gerador de números aleatórios.\n",
    "Esses hiperparâmetros podem ser ajustados usando a função RandomForestClassifier() do scikit-learn em Python. Por exemplo, para criar um modelo de Random Forest com 100 árvores, profundidade máxima de 5 e critério de \"entropy\", você pode fazer:\n"
   ]
  },
  {
   "cell_type": "code",
   "execution_count": 1,
   "id": "1264ffb2",
   "metadata": {},
   "outputs": [],
   "source": [
    "from sklearn.ensemble import RandomForestClassifier\n",
    "\n",
    "rfc = RandomForestClassifier(n_estimators=100, max_depth=5, criterion=\"gini\")\n"
   ]
  },
  {
   "cell_type": "markdown",
   "id": "007d0f8a",
   "metadata": {},
   "source": [
    "Lembre-se de que ajustar os hiperparâmetros corretamente pode ter um grande impacto no desempenho do modelo, e é importante experimentar diferentes combinações de valores para encontrar a configuração ideal. Isso pode ser feito por meio de validação cruzada ou outras técnicas de seleção de modelo."
   ]
  },
  {
   "cell_type": "code",
   "execution_count": null,
   "id": "22658b1c",
   "metadata": {},
   "outputs": [],
   "source": []
  }
 ],
 "metadata": {
  "kernelspec": {
   "display_name": "Python 3 (ipykernel)",
   "language": "python",
   "name": "python3"
  },
  "language_info": {
   "codemirror_mode": {
    "name": "ipython",
    "version": 3
   },
   "file_extension": ".py",
   "mimetype": "text/x-python",
   "name": "python",
   "nbconvert_exporter": "python",
   "pygments_lexer": "ipython3",
   "version": "3.9.13"
  }
 },
 "nbformat": 4,
 "nbformat_minor": 5
}
