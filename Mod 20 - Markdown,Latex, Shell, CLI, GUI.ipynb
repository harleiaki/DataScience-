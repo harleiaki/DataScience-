{
 "cells": [
  {
   "cell_type": "markdown",
   "id": "3904d307",
   "metadata": {},
   "source": [
    "## <font color='blue'>Fórmula de Bhaskara</font>\n",
    "\n",
    "A solução para uma função de segundo grau depende das suas raízes (valores de x). Como já vimos, os coeficientes precisam ser números reais e o angular diferente de zero. Sendo assim, temos a seguinte fórmula de Bhaskara:\n"
   ]
  },
  {
   "cell_type": "markdown",
   "id": "5a7888ef",
   "metadata": {},
   "source": [
    "$$ x=\\frac{-b±\\sqrt {b^2-4.a.c}}\n",
    "{2.a}$$\n",
    "\n",
    "#### $$Formula \\ de \\   Bhaskara.$$"
   ]
  },
  {
   "cell_type": "markdown",
   "id": "4c6404f9",
   "metadata": {},
   "source": [
    "Para melhor compreensão o seu cálculo é dividido em duas partes: discriminante da equação e operações para determinar as raízes."
   ]
  },
  {
   "cell_type": "markdown",
   "id": "4376e31f",
   "metadata": {},
   "source": [
    "#### Discriminante "
   ]
  },
  {
   "cell_type": "markdown",
   "id": "05569af2",
   "metadata": {},
   "source": [
    "A figura dentro da raiz na fórmula de Bhaskara é nomeada de discriminante. Seu símbolo é a letra grega delta e apresenta a determinada fórmula:\n"
   ]
  },
  {
   "cell_type": "markdown",
   "id": "a9f31f9c",
   "metadata": {},
   "source": [
    "# $$Δ = b^2 - 4.a.c$$\n",
    "\n",
    "#### $$Fórmula \\ da \\ discriminante.$$"
   ]
  },
  {
   "cell_type": "markdown",
   "id": "69c2187b",
   "metadata": {},
   "source": [
    "- Se o delta for maior que zero, a equação terá dois valores reais e distintos. \n",
    "- Se o delta for igual a zero, a equação terá somente um valor real ou dois resultados iguais. \n",
    "- Se o delta for menor que zero, a equação não possuirá valores reais. "
   ]
  },
  {
   "cell_type": "code",
   "execution_count": null,
   "id": "41cf3112",
   "metadata": {},
   "outputs": [],
   "source": []
  }
 ],
 "metadata": {
  "kernelspec": {
   "display_name": "Python 3 (ipykernel)",
   "language": "python",
   "name": "python3"
  },
  "language_info": {
   "codemirror_mode": {
    "name": "ipython",
    "version": 3
   },
   "file_extension": ".py",
   "mimetype": "text/x-python",
   "name": "python",
   "nbconvert_exporter": "python",
   "pygments_lexer": "ipython3",
   "version": "3.9.13"
  }
 },
 "nbformat": 4,
 "nbformat_minor": 5
}
