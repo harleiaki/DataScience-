{
 "cells": [
  {
   "cell_type": "code",
   "execution_count": 5,
   "metadata": {
    "_cell_guid": "fb109ad4-cdae-4e93-be9a-cff4f04dcfc4",
    "_uuid": "2b3bec228338f1149d7f9673ed7304064fa0d707"
   },
   "outputs": [],
   "source": [
    "import numpy as np \n",
    "import pandas as pd\n",
    "from datetime import datetime"
   ]
  },
  {
   "cell_type": "markdown",
   "metadata": {
    "_uuid": "cbaccf99777325fb28ee98c749fea76c4b5693b6"
   },
   "source": [
    "# RFV"
   ]
  },
  {
   "cell_type": "markdown",
   "metadata": {
    "_uuid": "ec2d9fb9cd749c93e38e928a9f9a19cb5f3ea345"
   },
   "source": [
    "**RFV** significa recência, frequência, valor e é utilizado para segmentação de clientes baseado no comportamento de compras dos clientes e agrupa eles em clusters parecidos. Utilizando esse tipo de agrupamento podemos realizar ações de marketing e CRM melhores direcionadas, ajudando assim na personalização do conteúdo e até a retenção de clientes.\n",
    "\n",
    "Para cada cliente é preciso calcular cada uma das componentes abaixo:\n",
    "\n",
    "- Recência (R): Quantidade de dias desde a última compra.\n",
    "- Frequência (F): Quantidade total de compras no período.\n",
    "- Valor (V): Total de dinheiro gasto nas compras do período.\n",
    "\n",
    "E é isso que iremos fazer abaixo."
   ]
  },
  {
   "cell_type": "code",
   "execution_count": 10,
   "metadata": {
    "_uuid": "29f4d8a264683adbc8960d28b5fd3a3d2b476e7b"
   },
   "outputs": [
    {
     "data": {
      "text/html": [
       "<div>\n",
       "<style scoped>\n",
       "    .dataframe tbody tr th:only-of-type {\n",
       "        vertical-align: middle;\n",
       "    }\n",
       "\n",
       "    .dataframe tbody tr th {\n",
       "        vertical-align: top;\n",
       "    }\n",
       "\n",
       "    .dataframe thead th {\n",
       "        text-align: right;\n",
       "    }\n",
       "</style>\n",
       "<table border=\"1\" class=\"dataframe\">\n",
       "  <thead>\n",
       "    <tr style=\"text-align: right;\">\n",
       "      <th></th>\n",
       "      <th>ID_cliente</th>\n",
       "      <th>CodigoCompra</th>\n",
       "      <th>DiaCompra</th>\n",
       "      <th>ValorTotal</th>\n",
       "    </tr>\n",
       "  </thead>\n",
       "  <tbody>\n",
       "    <tr>\n",
       "      <th>0</th>\n",
       "      <td>12747</td>\n",
       "      <td>537215</td>\n",
       "      <td>2020-12-05</td>\n",
       "      <td>358.56</td>\n",
       "    </tr>\n",
       "    <tr>\n",
       "      <th>1</th>\n",
       "      <td>12747</td>\n",
       "      <td>538537</td>\n",
       "      <td>2020-12-13</td>\n",
       "      <td>347.71</td>\n",
       "    </tr>\n",
       "    <tr>\n",
       "      <th>2</th>\n",
       "      <td>12747</td>\n",
       "      <td>541677</td>\n",
       "      <td>2021-01-20</td>\n",
       "      <td>303.04</td>\n",
       "    </tr>\n",
       "    <tr>\n",
       "      <th>3</th>\n",
       "      <td>12747</td>\n",
       "      <td>545321</td>\n",
       "      <td>2021-03-01</td>\n",
       "      <td>310.78</td>\n",
       "    </tr>\n",
       "    <tr>\n",
       "      <th>4</th>\n",
       "      <td>12747</td>\n",
       "      <td>551992</td>\n",
       "      <td>2021-05-05</td>\n",
       "      <td>442.96</td>\n",
       "    </tr>\n",
       "    <tr>\n",
       "      <th>5</th>\n",
       "      <td>12747</td>\n",
       "      <td>554549</td>\n",
       "      <td>2021-05-25</td>\n",
       "      <td>328.35</td>\n",
       "    </tr>\n",
       "    <tr>\n",
       "      <th>6</th>\n",
       "      <td>12747</td>\n",
       "      <td>558265</td>\n",
       "      <td>2021-06-28</td>\n",
       "      <td>376.30</td>\n",
       "    </tr>\n",
       "    <tr>\n",
       "      <th>7</th>\n",
       "      <td>12747</td>\n",
       "      <td>563949</td>\n",
       "      <td>2021-08-22</td>\n",
       "      <td>301.70</td>\n",
       "    </tr>\n",
       "    <tr>\n",
       "      <th>8</th>\n",
       "      <td>12747</td>\n",
       "      <td>569397</td>\n",
       "      <td>2021-10-04</td>\n",
       "      <td>675.38</td>\n",
       "    </tr>\n",
       "    <tr>\n",
       "      <th>9</th>\n",
       "      <td>12747</td>\n",
       "      <td>577104</td>\n",
       "      <td>2021-11-17</td>\n",
       "      <td>312.73</td>\n",
       "    </tr>\n",
       "    <tr>\n",
       "      <th>10</th>\n",
       "      <td>12747</td>\n",
       "      <td>581163</td>\n",
       "      <td>2021-12-07</td>\n",
       "      <td>438.50</td>\n",
       "    </tr>\n",
       "    <tr>\n",
       "      <th>11</th>\n",
       "      <td>12748</td>\n",
       "      <td>537136</td>\n",
       "      <td>2020-12-05</td>\n",
       "      <td>273.76</td>\n",
       "    </tr>\n",
       "    <tr>\n",
       "      <th>12</th>\n",
       "      <td>12748</td>\n",
       "      <td>537140</td>\n",
       "      <td>2020-12-05</td>\n",
       "      <td>70.42</td>\n",
       "    </tr>\n",
       "    <tr>\n",
       "      <th>13</th>\n",
       "      <td>12748</td>\n",
       "      <td>537142</td>\n",
       "      <td>2020-12-05</td>\n",
       "      <td>41.45</td>\n",
       "    </tr>\n",
       "    <tr>\n",
       "      <th>14</th>\n",
       "      <td>12748</td>\n",
       "      <td>537155</td>\n",
       "      <td>2020-12-05</td>\n",
       "      <td>75.64</td>\n",
       "    </tr>\n",
       "    <tr>\n",
       "      <th>15</th>\n",
       "      <td>12748</td>\n",
       "      <td>537225</td>\n",
       "      <td>2020-12-05</td>\n",
       "      <td>496.48</td>\n",
       "    </tr>\n",
       "    <tr>\n",
       "      <th>16</th>\n",
       "      <td>12748</td>\n",
       "      <td>537354</td>\n",
       "      <td>2020-12-06</td>\n",
       "      <td>133.07</td>\n",
       "    </tr>\n",
       "    <tr>\n",
       "      <th>17</th>\n",
       "      <td>12748</td>\n",
       "      <td>537429</td>\n",
       "      <td>2020-12-06</td>\n",
       "      <td>82.12</td>\n",
       "    </tr>\n",
       "    <tr>\n",
       "      <th>18</th>\n",
       "      <td>12748</td>\n",
       "      <td>537624</td>\n",
       "      <td>2020-12-07</td>\n",
       "      <td>306.84</td>\n",
       "    </tr>\n",
       "    <tr>\n",
       "      <th>19</th>\n",
       "      <td>12748</td>\n",
       "      <td>537800</td>\n",
       "      <td>2020-12-08</td>\n",
       "      <td>69.79</td>\n",
       "    </tr>\n",
       "  </tbody>\n",
       "</table>\n",
       "</div>"
      ],
      "text/plain": [
       "    ID_cliente  CodigoCompra  DiaCompra  ValorTotal\n",
       "0        12747        537215 2020-12-05      358.56\n",
       "1        12747        538537 2020-12-13      347.71\n",
       "2        12747        541677 2021-01-20      303.04\n",
       "3        12747        545321 2021-03-01      310.78\n",
       "4        12747        551992 2021-05-05      442.96\n",
       "5        12747        554549 2021-05-25      328.35\n",
       "6        12747        558265 2021-06-28      376.30\n",
       "7        12747        563949 2021-08-22      301.70\n",
       "8        12747        569397 2021-10-04      675.38\n",
       "9        12747        577104 2021-11-17      312.73\n",
       "10       12747        581163 2021-12-07      438.50\n",
       "11       12748        537136 2020-12-05      273.76\n",
       "12       12748        537140 2020-12-05       70.42\n",
       "13       12748        537142 2020-12-05       41.45\n",
       "14       12748        537155 2020-12-05       75.64\n",
       "15       12748        537225 2020-12-05      496.48\n",
       "16       12748        537354 2020-12-06      133.07\n",
       "17       12748        537429 2020-12-06       82.12\n",
       "18       12748        537624 2020-12-07      306.84\n",
       "19       12748        537800 2020-12-08       69.79"
      ]
     },
     "execution_count": 10,
     "metadata": {},
     "output_type": "execute_result"
    }
   ],
   "source": [
    "df_compras = pd.read_csv('dados.csv',\n",
    "                         infer_datetime_format=True,\n",
    "                         parse_dates=['DiaCompra'])\n",
    "df_compras.head(20)"
   ]
  },
  {
   "cell_type": "code",
   "execution_count": 4,
   "metadata": {},
   "outputs": [
    {
     "data": {
      "text/plain": [
       "(16127, 4)"
      ]
     },
     "execution_count": 4,
     "metadata": {},
     "output_type": "execute_result"
    }
   ],
   "source": [
    "df_compras.shape"
   ]
  },
  {
   "cell_type": "code",
   "execution_count": 5,
   "metadata": {},
   "outputs": [
    {
     "data": {
      "text/plain": [
       "ID_cliente               int64\n",
       "CodigoCompra             int64\n",
       "DiaCompra       datetime64[ns]\n",
       "ValorTotal             float64\n",
       "dtype: object"
      ]
     },
     "execution_count": 5,
     "metadata": {},
     "output_type": "execute_result"
    }
   ],
   "source": [
    "df_compras.dtypes"
   ]
  },
  {
   "cell_type": "code",
   "execution_count": 7,
   "metadata": {
    "_uuid": "ce44965c055012d19e134765eb3f6beeabf0ec9a"
   },
   "outputs": [
    {
     "data": {
      "text/plain": [
       "Timestamp('2020-12-01 00:00:00')"
      ]
     },
     "execution_count": 7,
     "metadata": {},
     "output_type": "execute_result"
    }
   ],
   "source": [
    "df_compras['DiaCompra'].min()"
   ]
  },
  {
   "cell_type": "code",
   "execution_count": 8,
   "metadata": {
    "_uuid": "ce44965c055012d19e134765eb3f6beeabf0ec9a"
   },
   "outputs": [
    {
     "data": {
      "text/plain": [
       "Timestamp('2021-12-09 00:00:00')"
      ]
     },
     "execution_count": 8,
     "metadata": {},
     "output_type": "execute_result"
    }
   ],
   "source": [
    "df_compras['DiaCompra'].max()"
   ]
  },
  {
   "cell_type": "code",
   "execution_count": 9,
   "metadata": {
    "_uuid": "0c43532a30cfa7b4271dbbe8a2a93499693c50a5"
   },
   "outputs": [
    {
     "name": "stdout",
     "output_type": "stream",
     "text": [
      "2021-12-09 00:00:00\n"
     ]
    }
   ],
   "source": [
    "dia_atual = datetime(2021, 12, 9)\n",
    "print(dia_atual)"
   ]
  },
  {
   "cell_type": "markdown",
   "metadata": {
    "_uuid": "37025d4aa093ef0ce9fe86d68ba9655564b94656"
   },
   "source": [
    "## Recência"
   ]
  },
  {
   "cell_type": "markdown",
   "metadata": {
    "_uuid": "9c0b5a6c58b1ab515d3ac34738733d5e2a1729af"
   },
   "source": [
    "**Quantos dias faz que o cliente fez a sua última compra?**"
   ]
  },
  {
   "cell_type": "code",
   "execution_count": 10,
   "metadata": {
    "_uuid": "f46c2dafc60fc8fae6ef5771e926bf1ab9c80544"
   },
   "outputs": [
    {
     "data": {
      "text/html": [
       "<div>\n",
       "<style scoped>\n",
       "    .dataframe tbody tr th:only-of-type {\n",
       "        vertical-align: middle;\n",
       "    }\n",
       "\n",
       "    .dataframe tbody tr th {\n",
       "        vertical-align: top;\n",
       "    }\n",
       "\n",
       "    .dataframe thead th {\n",
       "        text-align: right;\n",
       "    }\n",
       "</style>\n",
       "<table border=\"1\" class=\"dataframe\">\n",
       "  <thead>\n",
       "    <tr style=\"text-align: right;\">\n",
       "      <th></th>\n",
       "      <th>ID_cliente</th>\n",
       "      <th>DiaUltimaCompra</th>\n",
       "    </tr>\n",
       "  </thead>\n",
       "  <tbody>\n",
       "    <tr>\n",
       "      <th>0</th>\n",
       "      <td>12747</td>\n",
       "      <td>2021-12-07</td>\n",
       "    </tr>\n",
       "    <tr>\n",
       "      <th>1</th>\n",
       "      <td>12748</td>\n",
       "      <td>2021-12-09</td>\n",
       "    </tr>\n",
       "    <tr>\n",
       "      <th>2</th>\n",
       "      <td>12749</td>\n",
       "      <td>2021-12-06</td>\n",
       "    </tr>\n",
       "    <tr>\n",
       "      <th>3</th>\n",
       "      <td>12820</td>\n",
       "      <td>2021-12-06</td>\n",
       "    </tr>\n",
       "    <tr>\n",
       "      <th>4</th>\n",
       "      <td>12821</td>\n",
       "      <td>2021-05-09</td>\n",
       "    </tr>\n",
       "  </tbody>\n",
       "</table>\n",
       "</div>"
      ],
      "text/plain": [
       "   ID_cliente DiaUltimaCompra\n",
       "0       12747      2021-12-07\n",
       "1       12748      2021-12-09\n",
       "2       12749      2021-12-06\n",
       "3       12820      2021-12-06\n",
       "4       12821      2021-05-09"
      ]
     },
     "execution_count": 10,
     "metadata": {},
     "output_type": "execute_result"
    }
   ],
   "source": [
    "#group by customers and check last date of purshace\n",
    "df_recencia = df_compras.groupby(by='ID_cliente',\n",
    "                                 as_index=False)['DiaCompra'].max()\n",
    "df_recencia.columns = ['ID_cliente', 'DiaUltimaCompra']\n",
    "df_recencia.head()"
   ]
  },
  {
   "cell_type": "code",
   "execution_count": 11,
   "metadata": {
    "_uuid": "0f9cc1426b3f070520c2a7009c4248978810e75d"
   },
   "outputs": [],
   "source": [
    "df_recencia['Recencia'] = df_recencia['DiaUltimaCompra'].apply(\n",
    "    lambda x: (dia_atual - x).days)"
   ]
  },
  {
   "cell_type": "code",
   "execution_count": 7,
   "metadata": {
    "_uuid": "ce44965c055012d19e134765eb3f6beeabf0ec9a"
   },
   "outputs": [
    {
     "data": {
      "text/plain": [
       "Timestamp('2021-12-09 00:00:00')"
      ]
     },
     "execution_count": 7,
     "metadata": {},
     "output_type": "execute_result"
    }
   ],
   "source": [
    "df_compras['DiaCompra'].max()"
   ]
  },
  {
   "cell_type": "code",
   "execution_count": 8,
   "metadata": {
    "_uuid": "0c43532a30cfa7b4271dbbe8a2a93499693c50a5"
   },
   "outputs": [
    {
     "name": "stdout",
     "output_type": "stream",
     "text": [
      "2021-12-09 00:00:00\n"
     ]
    }
   ],
   "source": [
    "dia_atual = datetime(2021,12,9)\n",
    "print(dia_atual)"
   ]
  },
  {
   "cell_type": "code",
   "execution_count": 12,
   "metadata": {
    "_uuid": "c16b48098b91e515574c17d163e632567499e564"
   },
   "outputs": [
    {
     "data": {
      "text/html": [
       "<div>\n",
       "<style scoped>\n",
       "    .dataframe tbody tr th:only-of-type {\n",
       "        vertical-align: middle;\n",
       "    }\n",
       "\n",
       "    .dataframe tbody tr th {\n",
       "        vertical-align: top;\n",
       "    }\n",
       "\n",
       "    .dataframe thead th {\n",
       "        text-align: right;\n",
       "    }\n",
       "</style>\n",
       "<table border=\"1\" class=\"dataframe\">\n",
       "  <thead>\n",
       "    <tr style=\"text-align: right;\">\n",
       "      <th></th>\n",
       "      <th>ID_cliente</th>\n",
       "      <th>DiaUltimaCompra</th>\n",
       "      <th>Recencia</th>\n",
       "    </tr>\n",
       "  </thead>\n",
       "  <tbody>\n",
       "    <tr>\n",
       "      <th>0</th>\n",
       "      <td>12747</td>\n",
       "      <td>2021-12-07</td>\n",
       "      <td>2</td>\n",
       "    </tr>\n",
       "    <tr>\n",
       "      <th>1</th>\n",
       "      <td>12748</td>\n",
       "      <td>2021-12-09</td>\n",
       "      <td>0</td>\n",
       "    </tr>\n",
       "    <tr>\n",
       "      <th>2</th>\n",
       "      <td>12749</td>\n",
       "      <td>2021-12-06</td>\n",
       "      <td>3</td>\n",
       "    </tr>\n",
       "    <tr>\n",
       "      <th>3</th>\n",
       "      <td>12820</td>\n",
       "      <td>2021-12-06</td>\n",
       "      <td>3</td>\n",
       "    </tr>\n",
       "    <tr>\n",
       "      <th>4</th>\n",
       "      <td>12821</td>\n",
       "      <td>2021-05-09</td>\n",
       "      <td>214</td>\n",
       "    </tr>\n",
       "  </tbody>\n",
       "</table>\n",
       "</div>"
      ],
      "text/plain": [
       "   ID_cliente DiaUltimaCompra  Recencia\n",
       "0       12747      2021-12-07         2\n",
       "1       12748      2021-12-09         0\n",
       "2       12749      2021-12-06         3\n",
       "3       12820      2021-12-06         3\n",
       "4       12821      2021-05-09       214"
      ]
     },
     "execution_count": 12,
     "metadata": {},
     "output_type": "execute_result"
    }
   ],
   "source": [
    "df_recencia.head()"
   ]
  },
  {
   "cell_type": "code",
   "execution_count": 13,
   "metadata": {
    "_uuid": "9fa862b85b52d80bbf5b127234d30c67f4aa4181"
   },
   "outputs": [],
   "source": [
    "df_recencia.drop('DiaUltimaCompra', axis=1, inplace=True)"
   ]
  },
  {
   "cell_type": "markdown",
   "metadata": {
    "_uuid": "64c16d4ddbd8ee8719dcddde7e3257d7f9faffb3"
   },
   "source": [
    "## Frequência"
   ]
  },
  {
   "cell_type": "markdown",
   "metadata": {
    "_uuid": "9c0b5a6c58b1ab515d3ac34738733d5e2a1729af"
   },
   "source": [
    "**Quantas vezes cada cliente comprou com a gente?**"
   ]
  },
  {
   "cell_type": "code",
   "execution_count": 17,
   "metadata": {},
   "outputs": [
    {
     "data": {
      "text/html": [
       "<div>\n",
       "<style scoped>\n",
       "    .dataframe tbody tr th:only-of-type {\n",
       "        vertical-align: middle;\n",
       "    }\n",
       "\n",
       "    .dataframe tbody tr th {\n",
       "        vertical-align: top;\n",
       "    }\n",
       "\n",
       "    .dataframe thead th {\n",
       "        text-align: right;\n",
       "    }\n",
       "</style>\n",
       "<table border=\"1\" class=\"dataframe\">\n",
       "  <thead>\n",
       "    <tr style=\"text-align: right;\">\n",
       "      <th></th>\n",
       "      <th>ID_cliente</th>\n",
       "      <th>CodigoCompra</th>\n",
       "      <th>DiaCompra</th>\n",
       "      <th>ValorTotal</th>\n",
       "    </tr>\n",
       "  </thead>\n",
       "  <tbody>\n",
       "    <tr>\n",
       "      <th>0</th>\n",
       "      <td>12747</td>\n",
       "      <td>537215</td>\n",
       "      <td>2020-12-05</td>\n",
       "      <td>358.56</td>\n",
       "    </tr>\n",
       "    <tr>\n",
       "      <th>1</th>\n",
       "      <td>12747</td>\n",
       "      <td>538537</td>\n",
       "      <td>2020-12-13</td>\n",
       "      <td>347.71</td>\n",
       "    </tr>\n",
       "    <tr>\n",
       "      <th>2</th>\n",
       "      <td>12747</td>\n",
       "      <td>541677</td>\n",
       "      <td>2021-01-20</td>\n",
       "      <td>303.04</td>\n",
       "    </tr>\n",
       "    <tr>\n",
       "      <th>3</th>\n",
       "      <td>12747</td>\n",
       "      <td>545321</td>\n",
       "      <td>2021-03-01</td>\n",
       "      <td>310.78</td>\n",
       "    </tr>\n",
       "    <tr>\n",
       "      <th>4</th>\n",
       "      <td>12747</td>\n",
       "      <td>551992</td>\n",
       "      <td>2021-05-05</td>\n",
       "      <td>442.96</td>\n",
       "    </tr>\n",
       "    <tr>\n",
       "      <th>5</th>\n",
       "      <td>12747</td>\n",
       "      <td>554549</td>\n",
       "      <td>2021-05-25</td>\n",
       "      <td>328.35</td>\n",
       "    </tr>\n",
       "    <tr>\n",
       "      <th>6</th>\n",
       "      <td>12747</td>\n",
       "      <td>558265</td>\n",
       "      <td>2021-06-28</td>\n",
       "      <td>376.30</td>\n",
       "    </tr>\n",
       "    <tr>\n",
       "      <th>7</th>\n",
       "      <td>12747</td>\n",
       "      <td>563949</td>\n",
       "      <td>2021-08-22</td>\n",
       "      <td>301.70</td>\n",
       "    </tr>\n",
       "    <tr>\n",
       "      <th>8</th>\n",
       "      <td>12747</td>\n",
       "      <td>569397</td>\n",
       "      <td>2021-10-04</td>\n",
       "      <td>675.38</td>\n",
       "    </tr>\n",
       "    <tr>\n",
       "      <th>9</th>\n",
       "      <td>12747</td>\n",
       "      <td>577104</td>\n",
       "      <td>2021-11-17</td>\n",
       "      <td>312.73</td>\n",
       "    </tr>\n",
       "    <tr>\n",
       "      <th>10</th>\n",
       "      <td>12747</td>\n",
       "      <td>581163</td>\n",
       "      <td>2021-12-07</td>\n",
       "      <td>438.50</td>\n",
       "    </tr>\n",
       "    <tr>\n",
       "      <th>11</th>\n",
       "      <td>12748</td>\n",
       "      <td>537136</td>\n",
       "      <td>2020-12-05</td>\n",
       "      <td>273.76</td>\n",
       "    </tr>\n",
       "    <tr>\n",
       "      <th>12</th>\n",
       "      <td>12748</td>\n",
       "      <td>537140</td>\n",
       "      <td>2020-12-05</td>\n",
       "      <td>70.42</td>\n",
       "    </tr>\n",
       "    <tr>\n",
       "      <th>13</th>\n",
       "      <td>12748</td>\n",
       "      <td>537142</td>\n",
       "      <td>2020-12-05</td>\n",
       "      <td>41.45</td>\n",
       "    </tr>\n",
       "    <tr>\n",
       "      <th>14</th>\n",
       "      <td>12748</td>\n",
       "      <td>537155</td>\n",
       "      <td>2020-12-05</td>\n",
       "      <td>75.64</td>\n",
       "    </tr>\n",
       "  </tbody>\n",
       "</table>\n",
       "</div>"
      ],
      "text/plain": [
       "    ID_cliente  CodigoCompra  DiaCompra  ValorTotal\n",
       "0        12747        537215 2020-12-05      358.56\n",
       "1        12747        538537 2020-12-13      347.71\n",
       "2        12747        541677 2021-01-20      303.04\n",
       "3        12747        545321 2021-03-01      310.78\n",
       "4        12747        551992 2021-05-05      442.96\n",
       "5        12747        554549 2021-05-25      328.35\n",
       "6        12747        558265 2021-06-28      376.30\n",
       "7        12747        563949 2021-08-22      301.70\n",
       "8        12747        569397 2021-10-04      675.38\n",
       "9        12747        577104 2021-11-17      312.73\n",
       "10       12747        581163 2021-12-07      438.50\n",
       "11       12748        537136 2020-12-05      273.76\n",
       "12       12748        537140 2020-12-05       70.42\n",
       "13       12748        537142 2020-12-05       41.45\n",
       "14       12748        537155 2020-12-05       75.64"
      ]
     },
     "execution_count": 17,
     "metadata": {},
     "output_type": "execute_result"
    }
   ],
   "source": [
    "df_compras.head(15)"
   ]
  },
  {
   "cell_type": "code",
   "execution_count": 18,
   "metadata": {
    "_uuid": "1b682a23d7ace26d73c691ac95a975dfd6f588c5"
   },
   "outputs": [
    {
     "data": {
      "text/html": [
       "<div>\n",
       "<style scoped>\n",
       "    .dataframe tbody tr th:only-of-type {\n",
       "        vertical-align: middle;\n",
       "    }\n",
       "\n",
       "    .dataframe tbody tr th {\n",
       "        vertical-align: top;\n",
       "    }\n",
       "\n",
       "    .dataframe thead th {\n",
       "        text-align: right;\n",
       "    }\n",
       "</style>\n",
       "<table border=\"1\" class=\"dataframe\">\n",
       "  <thead>\n",
       "    <tr style=\"text-align: right;\">\n",
       "      <th></th>\n",
       "      <th>ID_cliente</th>\n",
       "      <th>Frequencia</th>\n",
       "    </tr>\n",
       "  </thead>\n",
       "  <tbody>\n",
       "    <tr>\n",
       "      <th>0</th>\n",
       "      <td>12747</td>\n",
       "      <td>11</td>\n",
       "    </tr>\n",
       "    <tr>\n",
       "      <th>1</th>\n",
       "      <td>12748</td>\n",
       "      <td>178</td>\n",
       "    </tr>\n",
       "    <tr>\n",
       "      <th>2</th>\n",
       "      <td>12749</td>\n",
       "      <td>5</td>\n",
       "    </tr>\n",
       "    <tr>\n",
       "      <th>3</th>\n",
       "      <td>12820</td>\n",
       "      <td>4</td>\n",
       "    </tr>\n",
       "    <tr>\n",
       "      <th>4</th>\n",
       "      <td>12821</td>\n",
       "      <td>1</td>\n",
       "    </tr>\n",
       "  </tbody>\n",
       "</table>\n",
       "</div>"
      ],
      "text/plain": [
       "   ID_cliente  Frequencia\n",
       "0       12747          11\n",
       "1       12748         178\n",
       "2       12749           5\n",
       "3       12820           4\n",
       "4       12821           1"
      ]
     },
     "execution_count": 18,
     "metadata": {},
     "output_type": "execute_result"
    }
   ],
   "source": [
    "df_frequencia = df_compras[['ID_cliente', 'CodigoCompra'\n",
    "                            ]].groupby('ID_cliente').count().reset_index()\n",
    "df_frequencia.columns = ['ID_cliente', 'Frequencia']\n",
    "df_frequencia.head()"
   ]
  },
  {
   "cell_type": "markdown",
   "metadata": {
    "_uuid": "f676ce29bcbe49aeb73de6706ab1e7eb954172ff"
   },
   "source": [
    "## Valor"
   ]
  },
  {
   "cell_type": "markdown",
   "metadata": {
    "_uuid": "9c0b5a6c58b1ab515d3ac34738733d5e2a1729af"
   },
   "source": [
    "**Quanto que cada cliente gastou no periodo?**"
   ]
  },
  {
   "cell_type": "code",
   "execution_count": 19,
   "metadata": {
    "_uuid": "b95ce8a5cdbb3e5a4c199c8f338cfbce19ed8266"
   },
   "outputs": [
    {
     "data": {
      "text/html": [
       "<div>\n",
       "<style scoped>\n",
       "    .dataframe tbody tr th:only-of-type {\n",
       "        vertical-align: middle;\n",
       "    }\n",
       "\n",
       "    .dataframe tbody tr th {\n",
       "        vertical-align: top;\n",
       "    }\n",
       "\n",
       "    .dataframe thead th {\n",
       "        text-align: right;\n",
       "    }\n",
       "</style>\n",
       "<table border=\"1\" class=\"dataframe\">\n",
       "  <thead>\n",
       "    <tr style=\"text-align: right;\">\n",
       "      <th></th>\n",
       "      <th>ID_cliente</th>\n",
       "      <th>Valor</th>\n",
       "    </tr>\n",
       "  </thead>\n",
       "  <tbody>\n",
       "    <tr>\n",
       "      <th>0</th>\n",
       "      <td>12747</td>\n",
       "      <td>4196.01</td>\n",
       "    </tr>\n",
       "    <tr>\n",
       "      <th>1</th>\n",
       "      <td>12748</td>\n",
       "      <td>31533.04</td>\n",
       "    </tr>\n",
       "    <tr>\n",
       "      <th>2</th>\n",
       "      <td>12749</td>\n",
       "      <td>4090.88</td>\n",
       "    </tr>\n",
       "    <tr>\n",
       "      <th>3</th>\n",
       "      <td>12820</td>\n",
       "      <td>942.34</td>\n",
       "    </tr>\n",
       "    <tr>\n",
       "      <th>4</th>\n",
       "      <td>12821</td>\n",
       "      <td>92.72</td>\n",
       "    </tr>\n",
       "  </tbody>\n",
       "</table>\n",
       "</div>"
      ],
      "text/plain": [
       "   ID_cliente     Valor\n",
       "0       12747   4196.01\n",
       "1       12748  31533.04\n",
       "2       12749   4090.88\n",
       "3       12820    942.34\n",
       "4       12821     92.72"
      ]
     },
     "execution_count": 19,
     "metadata": {},
     "output_type": "execute_result"
    }
   ],
   "source": [
    "df_valor = df_compras[['ID_cliente', 'ValorTotal'\n",
    "                       ]].groupby('ID_cliente').sum().reset_index()\n",
    "df_valor.columns = ['ID_cliente', 'Valor']\n",
    "df_valor.head()"
   ]
  },
  {
   "cell_type": "markdown",
   "metadata": {
    "_uuid": "55ffbc87d562083d6c8ed174bfa751b1a84119b9"
   },
   "source": [
    "## Criando a tabela RFV"
   ]
  },
  {
   "cell_type": "code",
   "execution_count": 20,
   "metadata": {
    "_uuid": "3a690db35fe721345dfd4dd625cdfaa9fffe96ee"
   },
   "outputs": [
    {
     "data": {
      "text/html": [
       "<div>\n",
       "<style scoped>\n",
       "    .dataframe tbody tr th:only-of-type {\n",
       "        vertical-align: middle;\n",
       "    }\n",
       "\n",
       "    .dataframe tbody tr th {\n",
       "        vertical-align: top;\n",
       "    }\n",
       "\n",
       "    .dataframe thead th {\n",
       "        text-align: right;\n",
       "    }\n",
       "</style>\n",
       "<table border=\"1\" class=\"dataframe\">\n",
       "  <thead>\n",
       "    <tr style=\"text-align: right;\">\n",
       "      <th></th>\n",
       "      <th>ID_cliente</th>\n",
       "      <th>Recencia</th>\n",
       "      <th>Frequencia</th>\n",
       "    </tr>\n",
       "  </thead>\n",
       "  <tbody>\n",
       "    <tr>\n",
       "      <th>0</th>\n",
       "      <td>12747</td>\n",
       "      <td>2</td>\n",
       "      <td>11</td>\n",
       "    </tr>\n",
       "    <tr>\n",
       "      <th>1</th>\n",
       "      <td>12748</td>\n",
       "      <td>0</td>\n",
       "      <td>178</td>\n",
       "    </tr>\n",
       "    <tr>\n",
       "      <th>2</th>\n",
       "      <td>12749</td>\n",
       "      <td>3</td>\n",
       "      <td>5</td>\n",
       "    </tr>\n",
       "    <tr>\n",
       "      <th>3</th>\n",
       "      <td>12820</td>\n",
       "      <td>3</td>\n",
       "      <td>4</td>\n",
       "    </tr>\n",
       "    <tr>\n",
       "      <th>4</th>\n",
       "      <td>12821</td>\n",
       "      <td>214</td>\n",
       "      <td>1</td>\n",
       "    </tr>\n",
       "  </tbody>\n",
       "</table>\n",
       "</div>"
      ],
      "text/plain": [
       "   ID_cliente  Recencia  Frequencia\n",
       "0       12747         2          11\n",
       "1       12748         0         178\n",
       "2       12749         3           5\n",
       "3       12820         3           4\n",
       "4       12821       214           1"
      ]
     },
     "execution_count": 20,
     "metadata": {},
     "output_type": "execute_result"
    }
   ],
   "source": [
    "df_RF = df_recencia.merge(df_frequencia, on='ID_cliente')\n",
    "df_RF.head()"
   ]
  },
  {
   "cell_type": "code",
   "execution_count": 21,
   "metadata": {
    "_uuid": "438c0e79c90e4abc8579e4d007e89366e9105bf0"
   },
   "outputs": [
    {
     "data": {
      "text/html": [
       "<div>\n",
       "<style scoped>\n",
       "    .dataframe tbody tr th:only-of-type {\n",
       "        vertical-align: middle;\n",
       "    }\n",
       "\n",
       "    .dataframe tbody tr th {\n",
       "        vertical-align: top;\n",
       "    }\n",
       "\n",
       "    .dataframe thead th {\n",
       "        text-align: right;\n",
       "    }\n",
       "</style>\n",
       "<table border=\"1\" class=\"dataframe\">\n",
       "  <thead>\n",
       "    <tr style=\"text-align: right;\">\n",
       "      <th></th>\n",
       "      <th>Recencia</th>\n",
       "      <th>Frequencia</th>\n",
       "      <th>Valor</th>\n",
       "    </tr>\n",
       "    <tr>\n",
       "      <th>ID_cliente</th>\n",
       "      <th></th>\n",
       "      <th></th>\n",
       "      <th></th>\n",
       "    </tr>\n",
       "  </thead>\n",
       "  <tbody>\n",
       "    <tr>\n",
       "      <th>12747</th>\n",
       "      <td>2</td>\n",
       "      <td>11</td>\n",
       "      <td>4196.01</td>\n",
       "    </tr>\n",
       "    <tr>\n",
       "      <th>12748</th>\n",
       "      <td>0</td>\n",
       "      <td>178</td>\n",
       "      <td>31533.04</td>\n",
       "    </tr>\n",
       "    <tr>\n",
       "      <th>12749</th>\n",
       "      <td>3</td>\n",
       "      <td>5</td>\n",
       "      <td>4090.88</td>\n",
       "    </tr>\n",
       "    <tr>\n",
       "      <th>12820</th>\n",
       "      <td>3</td>\n",
       "      <td>4</td>\n",
       "      <td>942.34</td>\n",
       "    </tr>\n",
       "    <tr>\n",
       "      <th>12821</th>\n",
       "      <td>214</td>\n",
       "      <td>1</td>\n",
       "      <td>92.72</td>\n",
       "    </tr>\n",
       "  </tbody>\n",
       "</table>\n",
       "</div>"
      ],
      "text/plain": [
       "            Recencia  Frequencia     Valor\n",
       "ID_cliente                                \n",
       "12747              2          11   4196.01\n",
       "12748              0         178  31533.04\n",
       "12749              3           5   4090.88\n",
       "12820              3           4    942.34\n",
       "12821            214           1     92.72"
      ]
     },
     "execution_count": 21,
     "metadata": {},
     "output_type": "execute_result"
    }
   ],
   "source": [
    "df_RFV = df_RF.merge(df_valor, on='ID_cliente')\n",
    "df_RFV.set_index('ID_cliente', inplace=True)\n",
    "df_RFV.head()"
   ]
  },
  {
   "cell_type": "markdown",
   "metadata": {
    "_uuid": "5b4b281a23d455056581cb1d58275b36e0a58990"
   },
   "source": [
    "## Segmentação de clientes utilizando o RFV"
   ]
  },
  {
   "cell_type": "markdown",
   "metadata": {
    "_uuid": "ad8f715fe3b5bd0380386420f62c5fee233c39c2"
   },
   "source": [
    "Um jeito de segmentar os clientes é criando quartis para cada componente do RFV, sendo que o melhor quartil é chamado de 'A', o segundo melhor quartil de 'B', o terceiro melhor de 'C' e o pior de 'D'. O melhor e o pior depende da componente. Po exemplo, quanto menor a recência melhor é o cliente (pois ele comprou com a gente tem pouco tempo) logo o menor quartil seria classificado como 'A', já pra componente frêquencia a lógica se inverte, ou seja, quanto maior a frêquencia do cliente comprar com a gente, melhor ele/a é, logo, o maior quartil recebe a letra 'A'.\n",
    "\n",
    "Se a gente tiver interessado em mais ou menos classes, basta a gente aumentar ou diminuir o número de quantils pra cada componente."
   ]
  },
  {
   "cell_type": "markdown",
   "metadata": {
    "_uuid": "fa4f401ebb36f68747f0315db84bb65bb8054a2e"
   },
   "source": [
    "### Quartis para o RFV"
   ]
  },
  {
   "cell_type": "code",
   "execution_count": 22,
   "metadata": {
    "_uuid": "d3c0d797ed33433723b8c22d98134e0da2360f13"
   },
   "outputs": [
    {
     "data": {
      "text/html": [
       "<div>\n",
       "<style scoped>\n",
       "    .dataframe tbody tr th:only-of-type {\n",
       "        vertical-align: middle;\n",
       "    }\n",
       "\n",
       "    .dataframe tbody tr th {\n",
       "        vertical-align: top;\n",
       "    }\n",
       "\n",
       "    .dataframe thead th {\n",
       "        text-align: right;\n",
       "    }\n",
       "</style>\n",
       "<table border=\"1\" class=\"dataframe\">\n",
       "  <thead>\n",
       "    <tr style=\"text-align: right;\">\n",
       "      <th></th>\n",
       "      <th>Recencia</th>\n",
       "      <th>Frequencia</th>\n",
       "      <th>Valor</th>\n",
       "    </tr>\n",
       "  </thead>\n",
       "  <tbody>\n",
       "    <tr>\n",
       "      <th>0.25</th>\n",
       "      <td>17.0</td>\n",
       "      <td>1.0</td>\n",
       "      <td>299.705</td>\n",
       "    </tr>\n",
       "    <tr>\n",
       "      <th>0.50</th>\n",
       "      <td>50.0</td>\n",
       "      <td>2.0</td>\n",
       "      <td>643.555</td>\n",
       "    </tr>\n",
       "    <tr>\n",
       "      <th>0.75</th>\n",
       "      <td>143.0</td>\n",
       "      <td>5.0</td>\n",
       "      <td>1533.600</td>\n",
       "    </tr>\n",
       "  </tbody>\n",
       "</table>\n",
       "</div>"
      ],
      "text/plain": [
       "      Recencia  Frequencia     Valor\n",
       "0.25      17.0         1.0   299.705\n",
       "0.50      50.0         2.0   643.555\n",
       "0.75     143.0         5.0  1533.600"
      ]
     },
     "execution_count": 22,
     "metadata": {},
     "output_type": "execute_result"
    }
   ],
   "source": [
    "quartis = df_RFV.quantile(q=[0.25, 0.5, 0.75])\n",
    "quartis"
   ]
  },
  {
   "cell_type": "code",
   "execution_count": 23,
   "metadata": {
    "_uuid": "490b462479549721728b54abeffe461da4b14414"
   },
   "outputs": [
    {
     "data": {
      "text/plain": [
       "{'Recencia': {0.25: 17.0, 0.5: 50.0, 0.75: 143.0},\n",
       " 'Frequencia': {0.25: 1.0, 0.5: 2.0, 0.75: 5.0},\n",
       " 'Valor': {0.25: 299.70500000000004, 0.5: 643.555, 0.75: 1533.6}}"
      ]
     },
     "execution_count": 23,
     "metadata": {},
     "output_type": "execute_result"
    }
   ],
   "source": [
    "quartis.to_dict()"
   ]
  },
  {
   "cell_type": "markdown",
   "metadata": {
    "_uuid": "ea328b04e3754e58a50a6ed3e6b7167f06a87850"
   },
   "source": [
    "### Criando os segmentos"
   ]
  },
  {
   "cell_type": "code",
   "execution_count": 25,
   "metadata": {
    "_uuid": "5949b42ea855fca7e11d9aa04dc67cb944eedf58"
   },
   "outputs": [],
   "source": [
    "def recencia_class(x, r, q_dict):\n",
    "    \"\"\"Classifica como melhor o menor quartil \n",
    "       x = valor da linha,\n",
    "       r = recencia,\n",
    "       q_dict = quartil dicionario   \n",
    "    \"\"\"\n",
    "    if x <= q_dict[r][0.25]:\n",
    "        return 'A'\n",
    "    elif x <= q_dict[r][0.50]:\n",
    "        return 'B'\n",
    "    elif x <= q_dict[r][0.75]:\n",
    "        return 'C'\n",
    "    else:\n",
    "        return 'D'\n",
    "\n",
    "\n",
    "def freq_val_class(x, fv, q_dict):\n",
    "    \"\"\"Classifica como melhor o maior quartil \n",
    "       x = valor da linha,\n",
    "       fv = frequencia ou valor,\n",
    "       q_dict = quartil dicionario   \n",
    "    \"\"\"\n",
    "    if x <= q_dict[fv][0.25]:\n",
    "        return 'D'\n",
    "    elif x <= q_dict[fv][0.50]:\n",
    "        return 'C'\n",
    "    elif x <= q_dict[fv][0.75]:\n",
    "        return 'B'\n",
    "    else:\n",
    "        return 'A'"
   ]
  },
  {
   "cell_type": "code",
   "execution_count": 26,
   "metadata": {
    "_uuid": "9f64510c0092214e60d8b8d75f1cbf5832ab130c"
   },
   "outputs": [],
   "source": [
    "df_RFV['R_quartil'] = df_RFV['Recencia'].apply(recencia_class,\n",
    "                                                args=('Recencia', quartis))\n",
    "df_RFV['F_quartil'] = df_RFV['Frequencia'].apply(freq_val_class,\n",
    "                                                  args=('Frequencia', quartis))\n",
    "df_RFV['V_quartil'] = df_RFV['Valor'].apply(freq_val_class,\n",
    "                                             args=('Valor', quartis))"
   ]
  },
  {
   "cell_type": "code",
   "execution_count": 27,
   "metadata": {
    "_uuid": "b49230a7f06323dd70bbe00cfb926a07586313c7"
   },
   "outputs": [
    {
     "data": {
      "text/html": [
       "<div>\n",
       "<style scoped>\n",
       "    .dataframe tbody tr th:only-of-type {\n",
       "        vertical-align: middle;\n",
       "    }\n",
       "\n",
       "    .dataframe tbody tr th {\n",
       "        vertical-align: top;\n",
       "    }\n",
       "\n",
       "    .dataframe thead th {\n",
       "        text-align: right;\n",
       "    }\n",
       "</style>\n",
       "<table border=\"1\" class=\"dataframe\">\n",
       "  <thead>\n",
       "    <tr style=\"text-align: right;\">\n",
       "      <th></th>\n",
       "      <th>Recencia</th>\n",
       "      <th>Frequencia</th>\n",
       "      <th>Valor</th>\n",
       "      <th>R_quartil</th>\n",
       "      <th>F_quartil</th>\n",
       "      <th>V_quartil</th>\n",
       "    </tr>\n",
       "    <tr>\n",
       "      <th>ID_cliente</th>\n",
       "      <th></th>\n",
       "      <th></th>\n",
       "      <th></th>\n",
       "      <th></th>\n",
       "      <th></th>\n",
       "      <th></th>\n",
       "    </tr>\n",
       "  </thead>\n",
       "  <tbody>\n",
       "    <tr>\n",
       "      <th>12747</th>\n",
       "      <td>2</td>\n",
       "      <td>11</td>\n",
       "      <td>4196.01</td>\n",
       "      <td>A</td>\n",
       "      <td>A</td>\n",
       "      <td>A</td>\n",
       "    </tr>\n",
       "    <tr>\n",
       "      <th>12748</th>\n",
       "      <td>0</td>\n",
       "      <td>178</td>\n",
       "      <td>31533.04</td>\n",
       "      <td>A</td>\n",
       "      <td>A</td>\n",
       "      <td>A</td>\n",
       "    </tr>\n",
       "    <tr>\n",
       "      <th>12749</th>\n",
       "      <td>3</td>\n",
       "      <td>5</td>\n",
       "      <td>4090.88</td>\n",
       "      <td>A</td>\n",
       "      <td>B</td>\n",
       "      <td>A</td>\n",
       "    </tr>\n",
       "    <tr>\n",
       "      <th>12820</th>\n",
       "      <td>3</td>\n",
       "      <td>4</td>\n",
       "      <td>942.34</td>\n",
       "      <td>A</td>\n",
       "      <td>B</td>\n",
       "      <td>B</td>\n",
       "    </tr>\n",
       "    <tr>\n",
       "      <th>12821</th>\n",
       "      <td>214</td>\n",
       "      <td>1</td>\n",
       "      <td>92.72</td>\n",
       "      <td>D</td>\n",
       "      <td>D</td>\n",
       "      <td>D</td>\n",
       "    </tr>\n",
       "  </tbody>\n",
       "</table>\n",
       "</div>"
      ],
      "text/plain": [
       "            Recencia  Frequencia     Valor R_quartil F_quartil V_quartil\n",
       "ID_cliente                                                              \n",
       "12747              2          11   4196.01         A         A         A\n",
       "12748              0         178  31533.04         A         A         A\n",
       "12749              3           5   4090.88         A         B         A\n",
       "12820              3           4    942.34         A         B         B\n",
       "12821            214           1     92.72         D         D         D"
      ]
     },
     "execution_count": 27,
     "metadata": {},
     "output_type": "execute_result"
    }
   ],
   "source": [
    "df_RFV.head()"
   ]
  },
  {
   "cell_type": "code",
   "execution_count": 29,
   "metadata": {
    "_uuid": "abf9b0672f0a0dbc6350dccb8261d4eeab5e3843"
   },
   "outputs": [
    {
     "data": {
      "text/html": [
       "<div>\n",
       "<style scoped>\n",
       "    .dataframe tbody tr th:only-of-type {\n",
       "        vertical-align: middle;\n",
       "    }\n",
       "\n",
       "    .dataframe tbody tr th {\n",
       "        vertical-align: top;\n",
       "    }\n",
       "\n",
       "    .dataframe thead th {\n",
       "        text-align: right;\n",
       "    }\n",
       "</style>\n",
       "<table border=\"1\" class=\"dataframe\">\n",
       "  <thead>\n",
       "    <tr style=\"text-align: right;\">\n",
       "      <th></th>\n",
       "      <th>Recencia</th>\n",
       "      <th>Frequencia</th>\n",
       "      <th>Valor</th>\n",
       "      <th>R_quartil</th>\n",
       "      <th>F_quartil</th>\n",
       "      <th>V_quartil</th>\n",
       "      <th>RFV_Score</th>\n",
       "    </tr>\n",
       "    <tr>\n",
       "      <th>ID_cliente</th>\n",
       "      <th></th>\n",
       "      <th></th>\n",
       "      <th></th>\n",
       "      <th></th>\n",
       "      <th></th>\n",
       "      <th></th>\n",
       "      <th></th>\n",
       "    </tr>\n",
       "  </thead>\n",
       "  <tbody>\n",
       "    <tr>\n",
       "      <th>12747</th>\n",
       "      <td>2</td>\n",
       "      <td>11</td>\n",
       "      <td>4196.01</td>\n",
       "      <td>A</td>\n",
       "      <td>A</td>\n",
       "      <td>A</td>\n",
       "      <td>AAA</td>\n",
       "    </tr>\n",
       "    <tr>\n",
       "      <th>12748</th>\n",
       "      <td>0</td>\n",
       "      <td>178</td>\n",
       "      <td>31533.04</td>\n",
       "      <td>A</td>\n",
       "      <td>A</td>\n",
       "      <td>A</td>\n",
       "      <td>AAA</td>\n",
       "    </tr>\n",
       "    <tr>\n",
       "      <th>12749</th>\n",
       "      <td>3</td>\n",
       "      <td>5</td>\n",
       "      <td>4090.88</td>\n",
       "      <td>A</td>\n",
       "      <td>B</td>\n",
       "      <td>A</td>\n",
       "      <td>ABA</td>\n",
       "    </tr>\n",
       "    <tr>\n",
       "      <th>12820</th>\n",
       "      <td>3</td>\n",
       "      <td>4</td>\n",
       "      <td>942.34</td>\n",
       "      <td>A</td>\n",
       "      <td>B</td>\n",
       "      <td>B</td>\n",
       "      <td>ABB</td>\n",
       "    </tr>\n",
       "    <tr>\n",
       "      <th>12821</th>\n",
       "      <td>214</td>\n",
       "      <td>1</td>\n",
       "      <td>92.72</td>\n",
       "      <td>D</td>\n",
       "      <td>D</td>\n",
       "      <td>D</td>\n",
       "      <td>DDD</td>\n",
       "    </tr>\n",
       "  </tbody>\n",
       "</table>\n",
       "</div>"
      ],
      "text/plain": [
       "            Recencia  Frequencia     Valor R_quartil F_quartil V_quartil  \\\n",
       "ID_cliente                                                                 \n",
       "12747              2          11   4196.01         A         A         A   \n",
       "12748              0         178  31533.04         A         A         A   \n",
       "12749              3           5   4090.88         A         B         A   \n",
       "12820              3           4    942.34         A         B         B   \n",
       "12821            214           1     92.72         D         D         D   \n",
       "\n",
       "           RFV_Score  \n",
       "ID_cliente            \n",
       "12747            AAA  \n",
       "12748            AAA  \n",
       "12749            ABA  \n",
       "12820            ABB  \n",
       "12821            DDD  "
      ]
     },
     "execution_count": 29,
     "metadata": {},
     "output_type": "execute_result"
    }
   ],
   "source": [
    "df_RFV['RFV_Score'] = (df_RFV.R_quartil + df_RFV.F_quartil +\n",
    "                       df_RFV.V_quartil)\n",
    "df_RFV.head()"
   ]
  },
  {
   "cell_type": "code",
   "execution_count": 30,
   "metadata": {
    "scrolled": true
   },
   "outputs": [
    {
     "data": {
      "text/plain": [
       "AAA    417\n",
       "DDD    402\n",
       "DDC    212\n",
       "BBB    187\n",
       "CDD    186\n",
       "BAA    166\n",
       "ABB    153\n",
       "CDC    140\n",
       "BDD    139\n",
       "CBB    133\n",
       "CBA     96\n",
       "ABA     87\n",
       "DCC     87\n",
       "BDC     85\n",
       "CCB     83\n",
       "BBA     81\n",
       "BCC     79\n",
       "CCC     79\n",
       "ACC     65\n",
       "BCB     65\n",
       "CAA     63\n",
       "CBC     60\n",
       "DCB     57\n",
       "DCD     54\n",
       "ADD     53\n",
       "BBC     53\n",
       "AAB     47\n",
       "ACB     46\n",
       "CDB     43\n",
       "BCD     43\n",
       "ABC     42\n",
       "DBB     41\n",
       "DBC     37\n",
       "DDB     36\n",
       "CCD     35\n",
       "BAB     35\n",
       "ADC     32\n",
       "ACD     32\n",
       "CAB     23\n",
       "BDB     20\n",
       "DAA     14\n",
       "DBA     13\n",
       "BCA     11\n",
       "CCA     10\n",
       "CBD     10\n",
       "DBD      9\n",
       "ABD      7\n",
       "DCA      6\n",
       "CDA      6\n",
       "BBD      5\n",
       "DDA      3\n",
       "ADB      3\n",
       "DAB      3\n",
       "AAC      3\n",
       "ACA      2\n",
       "BDA      1\n",
       "CAC      1\n",
       "AAD      1\n",
       "Name: RFV_Score, dtype: int64"
      ]
     },
     "execution_count": 30,
     "metadata": {},
     "output_type": "execute_result"
    }
   ],
   "source": [
    "df_RFV['RFV_Score'].value_counts()"
   ]
  },
  {
   "cell_type": "code",
   "execution_count": 31,
   "metadata": {},
   "outputs": [
    {
     "data": {
      "text/html": [
       "<div>\n",
       "<style scoped>\n",
       "    .dataframe tbody tr th:only-of-type {\n",
       "        vertical-align: middle;\n",
       "    }\n",
       "\n",
       "    .dataframe tbody tr th {\n",
       "        vertical-align: top;\n",
       "    }\n",
       "\n",
       "    .dataframe thead th {\n",
       "        text-align: right;\n",
       "    }\n",
       "</style>\n",
       "<table border=\"1\" class=\"dataframe\">\n",
       "  <thead>\n",
       "    <tr style=\"text-align: right;\">\n",
       "      <th></th>\n",
       "      <th>Recencia</th>\n",
       "      <th>Frequencia</th>\n",
       "      <th>Valor</th>\n",
       "    </tr>\n",
       "  </thead>\n",
       "  <tbody>\n",
       "    <tr>\n",
       "      <th>0.25</th>\n",
       "      <td>17.0</td>\n",
       "      <td>1.0</td>\n",
       "      <td>299.705</td>\n",
       "    </tr>\n",
       "    <tr>\n",
       "      <th>0.50</th>\n",
       "      <td>50.0</td>\n",
       "      <td>2.0</td>\n",
       "      <td>643.555</td>\n",
       "    </tr>\n",
       "    <tr>\n",
       "      <th>0.75</th>\n",
       "      <td>143.0</td>\n",
       "      <td>5.0</td>\n",
       "      <td>1533.600</td>\n",
       "    </tr>\n",
       "  </tbody>\n",
       "</table>\n",
       "</div>"
      ],
      "text/plain": [
       "      Recencia  Frequencia     Valor\n",
       "0.25      17.0         1.0   299.705\n",
       "0.50      50.0         2.0   643.555\n",
       "0.75     143.0         5.0  1533.600"
      ]
     },
     "execution_count": 31,
     "metadata": {},
     "output_type": "execute_result"
    }
   ],
   "source": [
    "quartis"
   ]
  },
  {
   "cell_type": "code",
   "execution_count": null,
   "metadata": {},
   "outputs": [],
   "source": []
  },
  {
   "cell_type": "code",
   "execution_count": 32,
   "metadata": {
    "_uuid": "2d86c2bce22118c23afcaca4a2a0d7331d36a8c0"
   },
   "outputs": [
    {
     "data": {
      "text/html": [
       "<div>\n",
       "<style scoped>\n",
       "    .dataframe tbody tr th:only-of-type {\n",
       "        vertical-align: middle;\n",
       "    }\n",
       "\n",
       "    .dataframe tbody tr th {\n",
       "        vertical-align: top;\n",
       "    }\n",
       "\n",
       "    .dataframe thead th {\n",
       "        text-align: right;\n",
       "    }\n",
       "</style>\n",
       "<table border=\"1\" class=\"dataframe\">\n",
       "  <thead>\n",
       "    <tr style=\"text-align: right;\">\n",
       "      <th></th>\n",
       "      <th>Recencia</th>\n",
       "      <th>Frequencia</th>\n",
       "      <th>Valor</th>\n",
       "      <th>R_quartil</th>\n",
       "      <th>F_quartil</th>\n",
       "      <th>V_quartil</th>\n",
       "      <th>RFV_Score</th>\n",
       "    </tr>\n",
       "    <tr>\n",
       "      <th>ID_cliente</th>\n",
       "      <th></th>\n",
       "      <th></th>\n",
       "      <th></th>\n",
       "      <th></th>\n",
       "      <th></th>\n",
       "      <th></th>\n",
       "      <th></th>\n",
       "    </tr>\n",
       "  </thead>\n",
       "  <tbody>\n",
       "    <tr>\n",
       "      <th>15311</th>\n",
       "      <td>0</td>\n",
       "      <td>87</td>\n",
       "      <td>49024.04</td>\n",
       "      <td>A</td>\n",
       "      <td>A</td>\n",
       "      <td>A</td>\n",
       "      <td>AAA</td>\n",
       "    </tr>\n",
       "    <tr>\n",
       "      <th>13089</th>\n",
       "      <td>2</td>\n",
       "      <td>93</td>\n",
       "      <td>48391.47</td>\n",
       "      <td>A</td>\n",
       "      <td>A</td>\n",
       "      <td>A</td>\n",
       "      <td>AAA</td>\n",
       "    </tr>\n",
       "    <tr>\n",
       "      <th>17841</th>\n",
       "      <td>1</td>\n",
       "      <td>115</td>\n",
       "      <td>40940.46</td>\n",
       "      <td>A</td>\n",
       "      <td>A</td>\n",
       "      <td>A</td>\n",
       "      <td>AAA</td>\n",
       "    </tr>\n",
       "    <tr>\n",
       "      <th>13694</th>\n",
       "      <td>3</td>\n",
       "      <td>40</td>\n",
       "      <td>37030.67</td>\n",
       "      <td>A</td>\n",
       "      <td>A</td>\n",
       "      <td>A</td>\n",
       "      <td>AAA</td>\n",
       "    </tr>\n",
       "    <tr>\n",
       "      <th>16013</th>\n",
       "      <td>3</td>\n",
       "      <td>45</td>\n",
       "      <td>32734.40</td>\n",
       "      <td>A</td>\n",
       "      <td>A</td>\n",
       "      <td>A</td>\n",
       "      <td>AAA</td>\n",
       "    </tr>\n",
       "    <tr>\n",
       "      <th>12748</th>\n",
       "      <td>0</td>\n",
       "      <td>178</td>\n",
       "      <td>31533.04</td>\n",
       "      <td>A</td>\n",
       "      <td>A</td>\n",
       "      <td>A</td>\n",
       "      <td>AAA</td>\n",
       "    </tr>\n",
       "    <tr>\n",
       "      <th>13798</th>\n",
       "      <td>1</td>\n",
       "      <td>55</td>\n",
       "      <td>31015.77</td>\n",
       "      <td>A</td>\n",
       "      <td>A</td>\n",
       "      <td>A</td>\n",
       "      <td>AAA</td>\n",
       "    </tr>\n",
       "    <tr>\n",
       "      <th>16422</th>\n",
       "      <td>17</td>\n",
       "      <td>49</td>\n",
       "      <td>30033.40</td>\n",
       "      <td>A</td>\n",
       "      <td>A</td>\n",
       "      <td>A</td>\n",
       "      <td>AAA</td>\n",
       "    </tr>\n",
       "    <tr>\n",
       "      <th>13408</th>\n",
       "      <td>1</td>\n",
       "      <td>62</td>\n",
       "      <td>28117.04</td>\n",
       "      <td>A</td>\n",
       "      <td>A</td>\n",
       "      <td>A</td>\n",
       "      <td>AAA</td>\n",
       "    </tr>\n",
       "    <tr>\n",
       "      <th>17949</th>\n",
       "      <td>1</td>\n",
       "      <td>39</td>\n",
       "      <td>25524.39</td>\n",
       "      <td>A</td>\n",
       "      <td>A</td>\n",
       "      <td>A</td>\n",
       "      <td>AAA</td>\n",
       "    </tr>\n",
       "  </tbody>\n",
       "</table>\n",
       "</div>"
      ],
      "text/plain": [
       "            Recencia  Frequencia     Valor R_quartil F_quartil V_quartil  \\\n",
       "ID_cliente                                                                 \n",
       "15311              0          87  49024.04         A         A         A   \n",
       "13089              2          93  48391.47         A         A         A   \n",
       "17841              1         115  40940.46         A         A         A   \n",
       "13694              3          40  37030.67         A         A         A   \n",
       "16013              3          45  32734.40         A         A         A   \n",
       "12748              0         178  31533.04         A         A         A   \n",
       "13798              1          55  31015.77         A         A         A   \n",
       "16422             17          49  30033.40         A         A         A   \n",
       "13408              1          62  28117.04         A         A         A   \n",
       "17949              1          39  25524.39         A         A         A   \n",
       "\n",
       "           RFV_Score  \n",
       "ID_cliente            \n",
       "15311            AAA  \n",
       "13089            AAA  \n",
       "17841            AAA  \n",
       "13694            AAA  \n",
       "16013            AAA  \n",
       "12748            AAA  \n",
       "13798            AAA  \n",
       "16422            AAA  \n",
       "13408            AAA  \n",
       "17949            AAA  "
      ]
     },
     "execution_count": 32,
     "metadata": {},
     "output_type": "execute_result"
    }
   ],
   "source": [
    "df_RFV[df_RFV['RFV_Score'] == 'AAA'].sort_values('Valor',\n",
    "                                                 ascending=False).head(10)"
   ]
  },
  {
   "cell_type": "markdown",
   "metadata": {},
   "source": [
    "### Ações de marketing/CRM"
   ]
  },
  {
   "cell_type": "code",
   "execution_count": 34,
   "metadata": {},
   "outputs": [],
   "source": [
    "dict_acoes = {\n",
    "    'AAA':\n",
    "    'Enviar cupons de desconto, Pedir para indicar nosso produto pra algum amigo, Ao lançar um novo produto enviar amostras grátis pra esses.',\n",
    "    'DDD':\n",
    "    'Churn! clientes que gastaram bem pouco e fizeram poucas compras, fazer nada',\n",
    "    'DAA':\n",
    "    'Churn! clientes que gastaram bastante e fizeram muitas compras, enviar cupons de desconto para tentar recuperar',\n",
    "    'CAA':\n",
    "    'Churn! clientes que gastaram bastante e fizeram muitas compras, enviar cupons de desconto para tentar recuperar'\n",
    "}"
   ]
  },
  {
   "cell_type": "code",
   "execution_count": 35,
   "metadata": {},
   "outputs": [],
   "source": [
    "df_RFV['acoes de marketing/crm'] = df_RFV['RFV_Score'].map(dict_acoes)"
   ]
  },
  {
   "cell_type": "code",
   "execution_count": 36,
   "metadata": {},
   "outputs": [
    {
     "data": {
      "text/html": [
       "<div>\n",
       "<style scoped>\n",
       "    .dataframe tbody tr th:only-of-type {\n",
       "        vertical-align: middle;\n",
       "    }\n",
       "\n",
       "    .dataframe tbody tr th {\n",
       "        vertical-align: top;\n",
       "    }\n",
       "\n",
       "    .dataframe thead th {\n",
       "        text-align: right;\n",
       "    }\n",
       "</style>\n",
       "<table border=\"1\" class=\"dataframe\">\n",
       "  <thead>\n",
       "    <tr style=\"text-align: right;\">\n",
       "      <th></th>\n",
       "      <th>Recencia</th>\n",
       "      <th>Frequencia</th>\n",
       "      <th>Valor</th>\n",
       "      <th>R_quartil</th>\n",
       "      <th>F_quartil</th>\n",
       "      <th>V_quartil</th>\n",
       "      <th>RFV_Score</th>\n",
       "      <th>acoes de marketing/crm</th>\n",
       "    </tr>\n",
       "    <tr>\n",
       "      <th>ID_cliente</th>\n",
       "      <th></th>\n",
       "      <th></th>\n",
       "      <th></th>\n",
       "      <th></th>\n",
       "      <th></th>\n",
       "      <th></th>\n",
       "      <th></th>\n",
       "      <th></th>\n",
       "    </tr>\n",
       "  </thead>\n",
       "  <tbody>\n",
       "    <tr>\n",
       "      <th>12747</th>\n",
       "      <td>2</td>\n",
       "      <td>11</td>\n",
       "      <td>4196.01</td>\n",
       "      <td>A</td>\n",
       "      <td>A</td>\n",
       "      <td>A</td>\n",
       "      <td>AAA</td>\n",
       "      <td>Enviar cupons de desconto, Pedir para indicar ...</td>\n",
       "    </tr>\n",
       "    <tr>\n",
       "      <th>12748</th>\n",
       "      <td>0</td>\n",
       "      <td>178</td>\n",
       "      <td>31533.04</td>\n",
       "      <td>A</td>\n",
       "      <td>A</td>\n",
       "      <td>A</td>\n",
       "      <td>AAA</td>\n",
       "      <td>Enviar cupons de desconto, Pedir para indicar ...</td>\n",
       "    </tr>\n",
       "    <tr>\n",
       "      <th>12749</th>\n",
       "      <td>3</td>\n",
       "      <td>5</td>\n",
       "      <td>4090.88</td>\n",
       "      <td>A</td>\n",
       "      <td>B</td>\n",
       "      <td>A</td>\n",
       "      <td>ABA</td>\n",
       "      <td>NaN</td>\n",
       "    </tr>\n",
       "    <tr>\n",
       "      <th>12820</th>\n",
       "      <td>3</td>\n",
       "      <td>4</td>\n",
       "      <td>942.34</td>\n",
       "      <td>A</td>\n",
       "      <td>B</td>\n",
       "      <td>B</td>\n",
       "      <td>ABB</td>\n",
       "      <td>NaN</td>\n",
       "    </tr>\n",
       "    <tr>\n",
       "      <th>12821</th>\n",
       "      <td>214</td>\n",
       "      <td>1</td>\n",
       "      <td>92.72</td>\n",
       "      <td>D</td>\n",
       "      <td>D</td>\n",
       "      <td>D</td>\n",
       "      <td>DDD</td>\n",
       "      <td>Churn! clientes que gastaram bem pouco e fizer...</td>\n",
       "    </tr>\n",
       "  </tbody>\n",
       "</table>\n",
       "</div>"
      ],
      "text/plain": [
       "            Recencia  Frequencia     Valor R_quartil F_quartil V_quartil  \\\n",
       "ID_cliente                                                                 \n",
       "12747              2          11   4196.01         A         A         A   \n",
       "12748              0         178  31533.04         A         A         A   \n",
       "12749              3           5   4090.88         A         B         A   \n",
       "12820              3           4    942.34         A         B         B   \n",
       "12821            214           1     92.72         D         D         D   \n",
       "\n",
       "           RFV_Score                             acoes de marketing/crm  \n",
       "ID_cliente                                                               \n",
       "12747            AAA  Enviar cupons de desconto, Pedir para indicar ...  \n",
       "12748            AAA  Enviar cupons de desconto, Pedir para indicar ...  \n",
       "12749            ABA                                                NaN  \n",
       "12820            ABB                                                NaN  \n",
       "12821            DDD  Churn! clientes que gastaram bem pouco e fizer...  "
      ]
     },
     "execution_count": 36,
     "metadata": {},
     "output_type": "execute_result"
    }
   ],
   "source": [
    "df_RFV.head()"
   ]
  },
  {
   "cell_type": "code",
   "execution_count": 37,
   "metadata": {},
   "outputs": [],
   "source": [
    "df_RFV.to_excel('./output/RFV.xlsx')"
   ]
  },
  {
   "cell_type": "code",
   "execution_count": null,
   "metadata": {},
   "outputs": [],
   "source": []
  },
  {
   "cell_type": "code",
   "execution_count": null,
   "metadata": {},
   "outputs": [],
   "source": []
  }
 ],
 "metadata": {
  "kernelspec": {
   "display_name": "Python 3 (ipykernel)",
   "language": "python",
   "name": "python3"
  },
  "language_info": {
   "codemirror_mode": {
    "name": "ipython",
    "version": 3
   },
   "file_extension": ".py",
   "mimetype": "text/x-python",
   "name": "python",
   "nbconvert_exporter": "python",
   "pygments_lexer": "ipython3",
   "version": "3.10.9"
  },
  "varInspector": {
   "cols": {
    "lenName": 16,
    "lenType": 16,
    "lenVar": 40
   },
   "kernels_config": {
    "python": {
     "delete_cmd_postfix": "",
     "delete_cmd_prefix": "del ",
     "library": "var_list.py",
     "varRefreshCmd": "print(var_dic_list())"
    },
    "r": {
     "delete_cmd_postfix": ") ",
     "delete_cmd_prefix": "rm(",
     "library": "var_list.r",
     "varRefreshCmd": "cat(var_dic_list()) "
    }
   },
   "types_to_exclude": [
    "module",
    "function",
    "builtin_function_or_method",
    "instance",
    "_Feature"
   ],
   "window_display": false
  }
 },
 "nbformat": 4,
 "nbformat_minor": 1
}
