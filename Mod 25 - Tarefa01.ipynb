{
 "cells": [
  {
   "attachments": {},
   "cell_type": "markdown",
   "metadata": {},
   "source": [
    "# Cálculo - Tarefa 01\n",
    "\n",
    "1. Marque quais desses métodos/algoritmos muito populares em ciência de dados são baseados no uso de derivada:\n",
    "\n",
    "    1. Método Mínimos Quadrados\n",
    "    2. Gradiente descendente\n",
    "    3. Newton Raphson\n",
    "    4. CART (Árvore de decisão)"
   ]
  },
  {
   "attachments": {},
   "cell_type": "markdown",
   "metadata": {},
   "source": [
    "- Método Mínimos Quadrados: não é baseado no uso de derivada.\n",
    "- Gradiente descendente: é baseado no uso de derivada, pois utiliza o cálculo do gradiente para encontrar a direção de maior descida.\n",
    "- Newton Raphson: é baseado no uso de derivada, pois utiliza a matriz Hessiana (que contém as segundas derivadas) para encontrar os pontos críticos.\n",
    "- CART (Árvore de decisão): não é baseado no uso de derivada."
   ]
  },
  {
   "attachments": {},
   "cell_type": "markdown",
   "metadata": {},
   "source": [
    "2. Dada uma base de dados com uma variável resposta $y$ e um conjunto de variáveis explicativas. Considere uma estrutura de um modelo de regressão. Explique com suas palavras por que não é possível obter parâmetros que forneçam um erro quadrático médio (EQM) menor que o obtido com estimadores de mínimos quadrados."
   ]
  },
  {
   "attachments": {},
   "cell_type": "markdown",
   "metadata": {},
   "source": [
    "O método de mínimos quadrados é uma técnica muito utilizada para ajustar modelos de regressão. Ele busca encontrar os parâmetros que minimizam a soma dos quadrados dos resíduos, que é uma medida do erro entre os valores previstos pelo modelo e os valores observados na base de dados.\n",
    "\n",
    "Uma possível razão para que não seja possível obter parâmetros que forneçam um EQM menor que o obtido com estimadores de mínimos quadrados é que o método de mínimos quadrados é o estimador de máxima verossimilhança sob a hipótese de que os erros de modelo são distribuídos normalmente. Isso significa que, se os erros não seguem uma distribuição normal, os estimadores de mínimos quadrados podem não ser os melhores para ajustar o modelo.\n",
    "\n",
    "Além disso, existem outras técnicas de ajuste de modelos que podem ser mais adequadas para determinados tipos de dados ou para determinadas situações, como por exemplo, regressão robusta ou regularização. No entanto, em geral, o método de mínimos quadrados é um estimador robusto e eficiente, e muitas vezes é a escolha mais apropriada para ajustar modelos de regressão."
   ]
  },
  {
   "attachments": {},
   "cell_type": "markdown",
   "metadata": {},
   "source": []
  }
 ],
 "metadata": {
  "kernelspec": {
   "display_name": "Python 3",
   "language": "python",
   "name": "python3"
  },
  "language_info": {
   "codemirror_mode": {
    "name": "ipython",
    "version": 3
   },
   "file_extension": ".py",
   "mimetype": "text/x-python",
   "name": "python",
   "nbconvert_exporter": "python",
   "pygments_lexer": "ipython3",
   "version": "3.8.5"
  },
  "toc": {
   "base_numbering": 1,
   "nav_menu": {},
   "number_sections": true,
   "sideBar": true,
   "skip_h1_title": true,
   "title_cell": "Índice",
   "title_sidebar": "Conteúdo",
   "toc_cell": false,
   "toc_position": {},
   "toc_section_display": true,
   "toc_window_display": false
  },
  "varInspector": {
   "cols": {
    "lenName": 16,
    "lenType": 16,
    "lenVar": 40
   },
   "kernels_config": {
    "python": {
     "delete_cmd_postfix": "",
     "delete_cmd_prefix": "del ",
     "library": "var_list.py",
     "varRefreshCmd": "print(var_dic_list())"
    },
    "r": {
     "delete_cmd_postfix": ") ",
     "delete_cmd_prefix": "rm(",
     "library": "var_list.r",
     "varRefreshCmd": "cat(var_dic_list()) "
    }
   },
   "types_to_exclude": [
    "module",
    "function",
    "builtin_function_or_method",
    "instance",
    "_Feature"
   ],
   "window_display": false
  }
 },
 "nbformat": 4,
 "nbformat_minor": 4
}
