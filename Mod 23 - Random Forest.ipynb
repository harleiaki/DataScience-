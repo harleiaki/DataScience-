{
 "cells": [
  {
   "cell_type": "markdown",
   "id": "d2fe5532",
   "metadata": {},
   "source": [
    "# Random Forest"
   ]
  },
  {
   "cell_type": "markdown",
   "id": "b51d4f26",
   "metadata": {},
   "source": [
    "O Random Forest é um algoritmo de aprendizado de máquina popular usado para classificação, regressão e outras tarefas. É um método de aprendizagem conjunto que combina várias árvores de decisão para fazer uma previsão final.\n",
    "\n",
    "O algoritmo funciona selecionando aleatoriamente subconjuntos dos dados e recursos de treinamento para criar uma coleção de árvores de decisão. Cada árvore é treinada em um subconjunto dos dados e recursos e faz uma previsão. A previsão final é determinada pela combinação das previsões de todas as árvores da floresta.\n",
    "\n",
    "O Random Forest tem várias vantagens sobre outros algoritmos de aprendizado de máquina. Ele pode lidar com grandes conjuntos de dados com alta dimensionalidade, é relativamente insensível a valores atípicos e pode ser usado para tarefas de classificação e regressão. Além disso, o algoritmo é computacionalmente eficiente e pode ser paralelizado para ser executado em vários núcleos ou sistemas distribuídos.\n",
    "\n",
    "Um dos principais benefícios do uso do Random Forest é que ele fornece uma medida de importância do recurso, o que pode ajudar a entender as relações subjacentes entre os recursos e a variável de destino. Essas informações podem ser usadas para selecionar os recursos mais importantes para uma tarefa específica ou para obter insights sobre os dados.\n",
    "\n",
    "No geral, o Random Forest é um algoritmo versátil e poderoso que pode ser usado para uma ampla gama de tarefas de aprendizado de máquina e é particularmente útil em situações em que os dados são complexos e barulhentos."
   ]
  },
  {
   "cell_type": "markdown",
   "id": "2016d70b",
   "metadata": {},
   "source": [
    "# Bagging e Random Forest"
   ]
  },
  {
   "cell_type": "markdown",
   "id": "1fd34d21",
   "metadata": {},
   "source": [
    "Random Forest e Bagging são ambos algoritmos de aprendizado de conjunto (ensemble learning) que combinam várias árvores de decisão para melhorar o desempenho de um modelo preditivo. No entanto, eles diferem em suas abordagens de construção de conjuntos de árvores.\n",
    "\n",
    "Bagging (Bootstrap Aggregating) é uma técnica que cria vários conjuntos de dados de treinamento a partir do conjunto original de dados, selecionando aleatoriamente exemplos com substituição. Cada conjunto de dados de treinamento é usado para treinar uma árvore de decisão separada, e as previsões de todas as árvores são combinadas para produzir a previsão final.\n",
    "\n",
    "Por outro lado, o Random Forest é uma extensão do Bagging que inclui uma abordagem aleatória adicional na construção das árvores. Além de amostrar os exemplos de treinamento com substituição, o Random Forest também amostra aleatoriamente um subconjunto dos recursos para cada árvore. Isso significa que cada árvore é treinada em um conjunto diferente de recursos, tornando as árvores mais diversificadas e menos correlacionadas.\n",
    "\n",
    "Em resumo, enquanto o Bagging usa o bootstrap para construir conjuntos de dados de treinamento independentes e combinar as previsões de várias árvores de decisão, o Random Forest adiciona um elemento adicional de aleatoriedade na construção das árvores, amostrando aleatoriamente um subconjunto de recursos para cada árvore. Como resultado, o Random Forest tende a ser mais robusto e ter um melhor desempenho do que o Bagging em muitos problemas de aprendizado de máquina."
   ]
  },
  {
   "cell_type": "code",
   "execution_count": null,
   "id": "6631859b",
   "metadata": {},
   "outputs": [],
   "source": []
  },
  {
   "cell_type": "code",
   "execution_count": 7,
   "id": "38b682bc",
   "metadata": {},
   "outputs": [],
   "source": [
    "from sklearn.ensemble import RandomForestClassifier\n",
    "from sklearn.datasets import load_iris\n",
    "from sklearn.feature_selection import SelectFromModel\n",
    "from sklearn.model_selection import train_test_split\n",
    "\n",
    "# Carregue o conjunto de dados Iris\n",
    "iris = load_iris()\n",
    "\n",
    "# Divida os dados em conjuntos de treinamento e teste\n",
    "X_train, X_test, y_train, y_test = train_test_split(iris.data, iris.target, test_size=0.3)\n",
    "\n",
    "# Crie um objeto Random Forest com 100 árvores e use bootstrap\n",
    "rfc = RandomForestClassifier(n_estimators=100, bootstrap=True)\n",
    "\n",
    "# Ajuste o modelo aos dados de treinamento\n",
    "rfc.fit(X_train, y_train)\n",
    "\n",
    "# Crie um objeto SelectFromModel com o Random Forest como estimador\n",
    "sfm = SelectFromModel(rfc, threshold=0.1)\n",
    "\n",
    "# Selecione os recursos com base na importância\n",
    "sfm.fit(X_train, y_train)\n",
    "X_train_new = sfm.transform(X_train)\n",
    "X_test_new = sfm.transform(X_test)\n",
    "\n",
    "# Ajuste o modelo com os recursos selecionados\n",
    "rfc_new = RandomForestClassifier(n_estimators=100, bootstrap=True)\n",
    "rfc_new.fit(X_train_new, y_train)\n",
    "\n",
    "# Faça previsões em novos dados\n",
    "y_pred = rfc_new.predict(X_test_new)"
   ]
  },
  {
   "cell_type": "code",
   "execution_count": 8,
   "id": "8853976d",
   "metadata": {},
   "outputs": [],
   "source": [
    "from sklearn.tree import DecisionTreeClassifier\n",
    "from sklearn.datasets import make_classification\n",
    "\n",
    "# generate random dataset\n",
    "X, y = make_classification(n_features=4, random_state=0)\n",
    "\n",
    "# train the model\n",
    "clf = DecisionTreeClassifier(random_state=0)\n",
    "clf.fit(X, y)\n",
    "\n",
    "# make predictions\n",
    "predictions = clf.predict(X)"
   ]
  },
  {
   "cell_type": "code",
   "execution_count": null,
   "id": "5594f3fc",
   "metadata": {},
   "outputs": [],
   "source": []
  }
 ],
 "metadata": {
  "kernelspec": {
   "display_name": "Python 3 (ipykernel)",
   "language": "python",
   "name": "python3"
  },
  "language_info": {
   "codemirror_mode": {
    "name": "ipython",
    "version": 3
   },
   "file_extension": ".py",
   "mimetype": "text/x-python",
   "name": "python",
   "nbconvert_exporter": "python",
   "pygments_lexer": "ipython3",
   "version": "3.9.13"
  }
 },
 "nbformat": 4,
 "nbformat_minor": 5
}
